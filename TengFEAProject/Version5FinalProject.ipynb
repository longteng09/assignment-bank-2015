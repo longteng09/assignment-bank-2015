{
 "cells": [
  {
   "cell_type": "markdown",
   "metadata": {},
   "source": []
  },
  {
   "cell_type": "markdown",
   "metadata": {},
   "source": [
    "   # The Dynamic Structure Analysis based on Numerical Method"
   ]
  },
  {
   "cell_type": "markdown",
   "metadata": {},
   "source": [
    "## Introduction:\n",
    "\n",
    "The project comes from a real physical phenomenon. We use cars everyday. When a car is running on the rough road, we may feel uncomfortable because of the vibration of car body. Actually, the suspension is the most important link between the ground and the car body structure and the mechanical properity of the suspension determinates the comfort of the riding comfortability. \n",
    "\n",
    "If you are still confused about that, you can watch the video (https://www.youtube.com/watch?v=EbkWaNDyFOQ).\n",
    " Specificallly, the intreasting video at time 3:00 shows an experiment related to damping property effecting on the performance on the car.\n",
    "\n",
    " Thus, to make clear what effects the riding comfortabiltity, the academic simulation needs to be done."
   ]
  },
  {
   "cell_type": "markdown",
   "metadata": {},
   "source": [
    "For the project, the Numerical Method(Euler Metod) combined with the Finite Element Method was used to simulate the\n",
    "real physical phenomenon.\n",
    "\n",
    "Specifically,the structure was modeled by Finite Element Method and the equations were solved by numerical method.\n",
    "\n",
    "The picture below is the structure modeled by Finite Element Method, you can see I have 12 nodes each of which has three degree of freedoms X, Y, Z and the Load(1N) are appled on the y direction of node 4, 5, 11, 12:\n",
    "\n",
    "![Image](./figures/F1.png)\n",
    "#### Figure 1. To simplify the model, only two elements were used\n"
   ]
  },
  {
   "cell_type": "markdown",
   "metadata": {},
   "source": [
    "Equation One:\n",
    "\\begin{equation}\n",
    "M  \\ddot{U}(t)+C \\dot{U}(t)+K U(t)= F(t)  --(1)\n",
    "\\end{equation}\n",
    "\n",
    "Note: The equation has damping cofficiency C and it indicates the masteril is the viscoelastic solid.Specifically, \"Visco\" is damping property.\n",
    "\n",
    "***Phyical explaination***: If we suddently seat into a car and the suspension of the car with the properity damping cofficiency(C), we can feel the car will vibrate, the amplitude of the vibration will decrease graduatlly and finally the car will stop vibrate. That means the becuase of the damping cofficiency C, the damping properity of suspensition can damp out the energy. \n",
    "\n",
    "The video(https://www.youtube.com/watch?v=4dL9kFjfizY) at time  16:00  shows the phenomenon and the solution."
   ]
  },
  {
   "cell_type": "markdown",
   "metadata": {},
   "source": []
  },
  {
   "cell_type": "markdown",
   "metadata": {},
   "source": [
    "Equation two:\n",
    "    \n",
    "\\begin{equation}\n",
    "M  \\ddot{U}(t)+K U(t)= F(t)  --(2)\n",
    "\\end{equation}\n",
    "\n",
    "Note: The equation do not have the damping cofficiency C and indicates the masteirl is purely elastic.Specifically, \"elastic\" means there is no disspation properity in structure and any point of the mateiral has the potential to come back its original place.\n",
    "\n",
    "***Phyical explaination***: If we suddently seat into a car and the suspensition of the car without the properity damping cofficiency(C), theorically, the car will not stop vibrate. That means the enery conservation.\n",
    "\n",
    "The video(https://www.youtube.com/watch?v=4dL9kFjfizY) at time  12:00  shows the phenomenon and the solution."
   ]
  },
  {
   "cell_type": "code",
   "execution_count": null,
   "metadata": {
    "collapsed": true
   },
   "outputs": [],
   "source": []
  },
  {
   "cell_type": "markdown",
   "metadata": {},
   "source": [
    "## Eurler Method:\n",
    "The method is the basic method in the numerial method and the specifical introduction can be found at the website(https://en.wikipedia.org/wiki/Euler_method)"
   ]
  },
  {
   "cell_type": "markdown",
   "metadata": {},
   "source": [
    "\\begin{equation}\n",
    "F_{n}=\\frac{\\partial U_{n}}{\\partial t}\n",
    "\\end{equation}\n",
    "\n",
    "\\begin{equation}\n",
    "U_{n+1}=U_{n}+dt*F_{n}\n",
    "\\end{equation}"
   ]
  },
  {
   "cell_type": "markdown",
   "metadata": {},
   "source": [
    "Specifically, ***for the structure with the damping properity***, to use the numerical method, the dynamic equation can be processed in the following way:\n",
    "\n",
    "\\begin{equation}\n",
    "    \\dot{U}(t)=V(t)\\\\\n",
    "    \\dot{V}(t)=M^{-1}(F-KU(t)-CV(t))\n",
    "\\end{equation}   \n",
    "\n",
    "\n",
    "The matrix form:\n",
    "\\begin{align}\n",
    "\\frac{\\partial }{\\partial t}&\n",
    "\\begin{pmatrix} U \\\\V \\end{pmatrix}\n",
    "= \\begin{pmatrix} \\ 0 \\ \\quad I \\\\ -M^{-1}K\\ \\quad-M^{-1}{C}   \\end{pmatrix}&\\begin{pmatrix} U \\\\V \\end{pmatrix}&\n",
    "+\\begin{pmatrix} \\ 0  \\\\ M^{-1}F\\   \\end{pmatrix}\n",
    "\\end{align}"
   ]
  },
  {
   "cell_type": "markdown",
   "metadata": {},
   "source": [
    "In addition, ***for the structure without hte damping properity***, we just let the C become a zero matrix."
   ]
  },
  {
   "cell_type": "markdown",
   "metadata": {},
   "source": []
  },
  {
   "cell_type": "markdown",
   "metadata": {},
   "source": [
    "## Simulation Result:\n",
    "#### The simulation for the structure with the damping (The code to get the result is from the coding part) is:    \n",
    "    "
   ]
  },
  {
   "cell_type": "code",
   "execution_count": null,
   "metadata": {
    "collapsed": false
   },
   "outputs": [],
   "source": [
    "from matplotlib import pyplot  \n",
    "pyplot.plot(sh.transpose());\n"
   ]
  },
  {
   "cell_type": "markdown",
   "metadata": {},
   "source": [
    "#### Figure 2. the displacement of the y direction of the No. 99 node. "
   ]
  },
  {
   "cell_type": "markdown",
   "metadata": {},
   "source": [
    "As we can see in the graph, the line of  simulation rsult calculatd by Numerical Method combined with Finite Element\n",
    "Method agrees with the following evidence:\n",
    "\n",
    "\n",
    "First: the physical pheonment \"if we suddently seat into a car and the suspensition of the car with the \n",
    "properity damping cofficiency(C), we can feel the car will vibrate, the amplitude of the vibration will decrease \n",
    "graduatlly and finally the car will stop vibrate\".\n",
    "\n",
    "Second: the actual experiment is from the video(https://www.youtube.com/watch?v=EbkWaNDyFOQ) at \n",
    "time 3:34."
   ]
  },
  {
   "cell_type": "markdown",
   "metadata": {},
   "source": []
  },
  {
   "cell_type": "markdown",
   "metadata": {},
   "source": []
  },
  {
   "cell_type": "markdown",
   "metadata": {},
   "source": [
    "#### The simulation for the structure without the damping(The code to get the result is from the coding part) is:"
   ]
  },
  {
   "cell_type": "code",
   "execution_count": null,
   "metadata": {
    "collapsed": false
   },
   "outputs": [],
   "source": [
    "pyplot.plot(ssh.transpose());"
   ]
  },
  {
   "cell_type": "markdown",
   "metadata": {},
   "source": [
    "#### Figure 3. the displacement of the y direction of the No. 99 node. "
   ]
  },
  {
   "cell_type": "markdown",
   "metadata": {},
   "source": [
    "As we can see in the graph, the line of  simulation rsult calculatd by Numerical Method combined with Finite Element\n",
    "Method agree with the following evidence:\n",
    "\n",
    "First: the physical pheonment \"Phyical explaination: If we suddently seat into a car and the suspensition of the car without the properity damping cofficiency(C). Theorically, the car will not stop vibrate. That means the enery conservation.\".\n",
    "\n",
    "Second: the actual experiment is from the video(https://www.youtube.com/watch?v=-qRYaZP0938) "
   ]
  },
  {
   "cell_type": "markdown",
   "metadata": {},
   "source": []
  },
  {
   "cell_type": "code",
   "execution_count": null,
   "metadata": {
    "collapsed": true
   },
   "outputs": [],
   "source": []
  },
  {
   "cell_type": "code",
   "execution_count": null,
   "metadata": {
    "collapsed": true
   },
   "outputs": [],
   "source": []
  },
  {
   "cell_type": "code",
   "execution_count": null,
   "metadata": {
    "collapsed": true
   },
   "outputs": [],
   "source": []
  },
  {
   "cell_type": "code",
   "execution_count": null,
   "metadata": {
    "collapsed": true
   },
   "outputs": [],
   "source": []
  },
  {
   "cell_type": "code",
   "execution_count": null,
   "metadata": {
    "collapsed": true
   },
   "outputs": [],
   "source": []
  },
  {
   "cell_type": "markdown",
   "metadata": {},
   "source": []
  },
  {
   "cell_type": "markdown",
   "metadata": {},
   "source": [
    "## The Finite Element Method "
   ]
  },
  {
   "cell_type": "markdown",
   "metadata": {},
   "source": [
    "                  "
   ]
  },
  {
   "cell_type": "markdown",
   "metadata": {},
   "source": [
    "### 1 The Dynamic Equation(Newton's Law):"
   ]
  },
  {
   "cell_type": "markdown",
   "metadata": {},
   "source": [
    "\\begin{equation}\n",
    "M  \\ddot{U}(t)+C \\dot{U}(t)+K U(t)= F(t)  --(3)\n",
    "\\end{equation}"
   ]
  },
  {
   "cell_type": "markdown",
   "metadata": {},
   "source": [
    "Sepcifically: "
   ]
  },
  {
   "cell_type": "markdown",
   "metadata": {},
   "source": [
    "The Mass Matrix:\n",
    "\\begin{equation}\n",
    "M_{\\alpha \\beta}=\\int_{\\text{v}}\\rho \\ N_{i\\alpha} N_{i\\beta}dV--(4)\n",
    "\\end{equation}"
   ]
  },
  {
   "cell_type": "markdown",
   "metadata": {},
   "source": [
    "The Damping Matrix:\n",
    "\\begin{equation}\n",
    "C_{\\alpha \\beta}=\\int_{\\text{v}}a_{ijmn} \\ B_{ij\\alpha} B_{mn\\beta}dV--(5)\n",
    "\\end{equation}"
   ]
  },
  {
   "cell_type": "markdown",
   "metadata": {},
   "source": [
    "The Stiffness Matrix:\n",
    "\\begin{equation}\n",
    "K_{\\alpha \\beta}=\\int_{\\text{v}}A_{ijmn} \\ B_{ij\\alpha} B_{mn\\beta}dV--(6)\n",
    "\\end{equation}"
   ]
  },
  {
   "cell_type": "markdown",
   "metadata": {},
   "source": []
  },
  {
   "cell_type": "markdown",
   "metadata": {},
   "source": [
    "\\begin{equation}\n",
    "B_{ija}=\\frac{\\partial B_{i\\alpha}}{\\partial \\xi_{k}}\\frac{\\partial \\xi_{k}}{\\partial X_{j}}--(7)\n",
    "\\end{equation}\n"
   ]
  },
  {
   "cell_type": "markdown",
   "metadata": {},
   "source": [
    "\\begin{equation}\n",
    "Jacobin=\\frac{\\partial \\xi_{k}}{\\partial X_{j}}--(8)\n",
    "\\end{equation}"
   ]
  },
  {
   "cell_type": "code",
   "execution_count": null,
   "metadata": {
    "collapsed": true
   },
   "outputs": [],
   "source": []
  },
  {
   "cell_type": "markdown",
   "metadata": {},
   "source": [
    "The Shape Funtion--(9):\n",
    "\n",
    "\\begin{equation}\n",
    "N1=(1-r)(1-s)(1+t)/8\n",
    "\\end{equation}\n",
    "\\begin{equation}\n",
    "N2=(1+r)(1-s)(1+t)/8\n",
    "\\end{equation}\n",
    "\\begin{equation}\n",
    "N3=(1+r)(1+s)(1+t)/8\n",
    "\\end{equation}\n",
    "\\begin{equation}\n",
    "N4=(1-r)(1+s)(1+t)/8\n",
    "\\end{equation}\n",
    "\\begin{equation}\n",
    "N5=(1-r)(1-s)(1-t)/8\n",
    "\\end{equation}\n",
    "\\begin{equation}\n",
    "N6=(1+r)(1-s)(1-t)/8\n",
    "\\end{equation}\n",
    "\\begin{equation}\n",
    "N7=(1+r)(1+s)(1-t)/8\n",
    "\\end{equation}\n",
    "\\begin{equation}\n",
    "N6=(1-r)(1+s)(1-t)/8\n",
    "\\end{equation}"
   ]
  },
  {
   "cell_type": "code",
   "execution_count": null,
   "metadata": {
    "collapsed": true
   },
   "outputs": [],
   "source": []
  },
  {
   "cell_type": "markdown",
   "metadata": {},
   "source": [
    "How we can discrete the displacement by the eight nodes:\n",
    "\n",
    "Matrix Form:\n",
    "\n",
    "\\begin{align}\n",
    "\\begin{pmatrix} X \\\\ Y \\\\ Z  \\end{pmatrix} =\n",
    "&  \\begin{pmatrix}\n",
    "N1\\ 0\\ 0\\ N2\\ 0\\ 0\\ N3\\ 0\\ 0\\ N4\\ 0\\ 0\\ N5\\ 0\\ 0\\ N6\\ 0\\ 0\\ N7\\ 0\\ 0\\ N8\\ 0\\ 0\\\\0\\ N1\\ 0\\ 0\\ N2\\ 0\\ 0\\ N3\\ 0\\ 0\\ N4\\ 0\\ 0\\ N5\\ 0\\ 0\\ N6\\ 0\\ 0\\ N7\\ 0\\ 0\\ N8\\ 0\\\\0\\ 0\\ N1\\ 0\\ 0\\ N2\\ 0\\ 0\\ N3\\ 0\\ 0\\ N4\\ 0\\ 0\\ N5\\ 0\\ 0\\ N6\\ 0\\ 0\\ N7\\ 0\\ 0\\ N8\n",
    "\\end{pmatrix}&* \\begin{pmatrix} X1\\\\ Y1\\\\ Z1\\\\ X2\\\\ Y2\\\\ Z2\\\\ X3\\\\ Y3\\\\ Z3\\\\ X4\\\\ Y4\\\\ Z4 \\\\ X5\\\\ Y5\\\\ Z5\\\\ X6\\\\ Y6\\\\ Z6\\\\ X7\\\\ Y7\\\\ Z7\\\\ X8\\\\ Y8\\\\ Z8\\end{pmatrix}--(10).\n",
    "\\end{align}"
   ]
  },
  {
   "cell_type": "markdown",
   "metadata": {},
   "source": [
    "Summation Form:\n",
    "\n",
    "$$X_{i}=\\sum_{\\alpha=1}^{24} N_{i\\alpha}X_{\\alpha}--(11)$$\n",
    "$$Y_{i}=\\sum_{\\alpha=1}^{24} N_{i\\alpha}Y_{\\alpha}--(12)$$\n",
    "$$Z_{i}=\\sum_{\\alpha=1}^{24} N_{i\\alpha}Z_{\\alpha}--(13)$$"
   ]
  },
  {
   "cell_type": "markdown",
   "metadata": {},
   "source": []
  },
  {
   "cell_type": "markdown",
   "metadata": {},
   "source": [
    "==>\n",
    "\\begin{equation}\n",
    "X=N1*X1+N2*X2+N3*X3+N4*X4+N5*X5+N6*X6+N7*X7+N8*X8--(14)\n",
    "\\end{equation}\n",
    "\\begin{equation}\n",
    "Y=N1*Y1+N2*Y2+N3*Y3+N4*Y4+N5*Y5+N6*Y6+N7*Y7+N8*Y8--(15)\n",
    "\\end{equation}\n",
    "\\begin{equation}\n",
    "Z=N1*Z1+N2*Z2+N3*Z3+N4*Z4+N5*Z5+N6*Z6+N7*Z7+N8*Y8--(16)\n",
    "\\end{equation}"
   ]
  },
  {
   "cell_type": "code",
   "execution_count": null,
   "metadata": {
    "collapsed": true
   },
   "outputs": [],
   "source": []
  },
  {
   "cell_type": "markdown",
   "metadata": {},
   "source": [
    "Jabian Matrix:\n",
    "\n",
    "\\begin{align}\n",
    "J& = \\begin{pmatrix} \\frac{\\partial X}{\\partial r} \\ \\frac{\\partial Y}{\\partial r}\\ \\frac{\\partial Z}{\\partial r} \\\\  \\frac{\\partial X}{\\partial s} \\ \\frac{\\partial Y}{\\partial s}\\ \\frac{\\partial Z}{\\partial s}\\\\   \\frac{\\partial X}{\\partial t} \\ \\frac{\\partial Y}{\\partial t}\\ \\frac{\\partial Z}{\\partial t}\\end{pmatrix}--(17)\n",
    "\\end{align}"
   ]
  },
  {
   "cell_type": "code",
   "execution_count": null,
   "metadata": {
    "collapsed": true
   },
   "outputs": [],
   "source": []
  },
  {
   "cell_type": "markdown",
   "metadata": {},
   "source": [
    "### 2 The Process of how we use the Linear monentum equation to derive the Finite Element equations:"
   ]
  },
  {
   "cell_type": "markdown",
   "metadata": {},
   "source": [
    "\\begin{equation}\n",
    "\\rho \\ddot{u}_{i} -\\rho \\ f_{i} -t_{ji,j}=0--(18)\n",
    "\\end{equation}"
   ]
  },
  {
   "cell_type": "markdown",
   "metadata": {},
   "source": [
    "#### 2.1 Apply the virtual displacement to the equilibrium equation:\n",
    "\\begin{equation}\n",
    "\\int_{\\text{v}}    (t_{ji,j}+\\rho \\ f_{i} -\\rho \\ddot{u}_{i})  \\delta\\ u_{i}    dV=0--(19)\n",
    "\\end{equation}"
   ]
  },
  {
   "cell_type": "markdown",
   "metadata": {},
   "source": []
  },
  {
   "cell_type": "markdown",
   "metadata": {},
   "source": [
    "#### 2.2 Process the last term:\n",
    "\n",
    "\\begin{equation}\n",
    "\\int_{\\text{v}}    \\rho \\ f_{i} \\delta\\ u_{i}    dV--(20)\n",
    "\\end{equation}"
   ]
  },
  {
   "cell_type": "markdown",
   "metadata": {},
   "source": [
    "\\begin{equation}\n",
    "\\delta\\ u_{i} = \\ N_{i\\alpha}\\delta \\ U_{\\alpha}   --(21)\n",
    "\\end{equation}\n"
   ]
  },
  {
   "cell_type": "markdown",
   "metadata": {},
   "source": [
    "\\begin{equation}\n",
    "\\int_{\\text{v}}    \\rho\\ f_{i} \\delta\\ u_{i}    dV\n",
    "=\\int_{\\text{v}}    \\rho\\ f_{i} \\ N_{i\\alpha}\\delta \\ U_{\\alpha}    dV\n",
    "=\\delta \\ U_{\\alpha}\\int_{\\text{v}}    \\rho\\ f_{i} \\ N_{i\\alpha}    dV\n",
    "=\\delta \\ U_{\\alpha}\\ F_{\\alpha}^1--(22)\n",
    "\\end{equation}"
   ]
  },
  {
   "cell_type": "markdown",
   "metadata": {},
   "source": [
    "\\begin{equation}\n",
    "\\int_{\\text{v}}    \\rho\\ f_{i} \\ N_{i\\alpha}    dV\n",
    "=\\ F_{\\alpha}^1--(23)\n",
    "\\end{equation}"
   ]
  },
  {
   "cell_type": "code",
   "execution_count": null,
   "metadata": {
    "collapsed": true
   },
   "outputs": [],
   "source": []
  },
  {
   "cell_type": "markdown",
   "metadata": {},
   "source": [
    "#### 2.3 Process the second term:\n",
    "\\begin{equation}\n",
    "\\int_{\\text{v}}  \\rho \\ddot{u}_{i} \\delta\\ u_{i} dV--(24)\n",
    "\\end{equation}"
   ]
  },
  {
   "cell_type": "markdown",
   "metadata": {},
   "source": [
    "\\begin{equation}\n",
    "\\ddot{u} = \\ N_{i \\beta} \\delta \\ U_{\\beta}   --(25)\n",
    "\\end{equation}"
   ]
  },
  {
   "cell_type": "markdown",
   "metadata": {},
   "source": [
    "\\begin{equation}\n",
    "\\delta \\ u_{i}=N_{i\\alpha}\\delta \\ U_{\\alpha}   --(26)\n",
    "\\end{equation}"
   ]
  },
  {
   "cell_type": "markdown",
   "metadata": {},
   "source": [
    "\n",
    "\\begin{equation}\n",
    "\\int_{\\text{v}}  \\rho \\ddot{u}_{i} \\delta\\ u_{i} dV\n",
    "=\\int_{\\text{v}}    \\rho\\ N_{i\\beta}\\ddot{U}_{\\beta} \\ N_{i\\alpha}\\delta \\ U_{\\alpha}    dV\n",
    "= \\delta \\ U_{\\alpha}\\ddot{U}_{\\beta}\\int_{\\text{v}}   \\rho\\ N_{i\\beta}\\  N_{i\\alpha}    dV\n",
    "=\\delta \\ U_{\\alpha}\\ddot{U}_{\\beta}\\ M_{\\alpha\\beta}--(27)\n",
    "\\end{equation}"
   ]
  },
  {
   "cell_type": "markdown",
   "metadata": {},
   "source": [
    "\n",
    "\\begin{equation}\n",
    "\\int_{\\text{v}}   \\rho\\ N_{i\\beta}\\  N_{i\\alpha}    dV\n",
    "=\\ M_{\\alpha\\beta}--(28)\n",
    "\\end{equation}"
   ]
  },
  {
   "cell_type": "code",
   "execution_count": null,
   "metadata": {
    "collapsed": true
   },
   "outputs": [],
   "source": []
  },
  {
   "cell_type": "markdown",
   "metadata": {},
   "source": [
    "#### 2.4 Process the first term:\n",
    "\n",
    "\\begin{equation}\n",
    "\\int_{\\text{v}}    t_{ji,j} \\delta\\ u_{i}    dV\n",
    "=\\int_{\\text{v}}    (t_{ji,j} \\delta\\ u_{i})_{,j}-\\ t_{ji,j} (\\delta \\ u_{i})_{,j} dV\\\\\n",
    "=\\oint_{\\text{v}}   t_{ji,j} \\delta\\ u_{i}\\ n_{j}dS- \\int_{\\text{v}}\\ t_{ji} \\delta \\ e_{ij} dV\\\\\n",
    "=\\oint_{\\text{sa}}   t_{ji,j} \\ n_{j}  \\delta\\ u_{i} dS\n",
    "+\\oint_{\\text{sb}}   t_{ji,j} \\ n_{j}  \\delta\\ u_{i} dS\n",
    "-\\int_{\\text{v}}   t_{ji} \\delta \\ e_{ij} dV\\\\\n",
    "=\\oint_{\\text{sa}}   t_{ji,j} \\ n_{j}  \\delta\\ u_{i} dS\n",
    "-\\int_{\\text{v}}   t_{ji} \\delta \\ e_{ij} dV\\\\\n",
    "=\\oint_{\\text{sa}}   t_{i}^*  \\delta\\ u_{i} dS\n",
    "- \\delta\\ N_{\\alpha} \\int_{\\text{v}} \\ t_{ij}\\ B_{ij\\alpha} dV\\\\\n",
    "=\\oint_{\\text{sa}}   t_{i}^*  \\ N_{i\\alpha}\\delta\\ U_{\\alpha} dS\n",
    "- \\delta\\ N_{\\alpha} \\int_{\\text{v}} \\ t_{ij}\\ B_{ij\\alpha} dV\\\\\n",
    "=\\delta\\ U_{\\alpha}\\oint_{\\text{sa}}   t_{i}^*  \\ N_{i\\alpha}  dS\n",
    "- \\delta\\ N_{\\alpha} \\int_{\\text{v}} \\ t_{ij}\\ B_{ij\\alpha} dV\\\\\n",
    "=\\delta\\ U_{\\alpha}\\ F_{\\alpha}^2-\\delta\\ U_{\\alpha}\\ F_{\\alpha}^3--(29)\n",
    "\\end{equation}\n",
    "\n",
    "\\begin{equation}\n",
    "F_{\\alpha}^2 \\quad is \\quad due \\quad to \\quad surface \\quad traction\n",
    "\\end{equation}\n",
    "\\begin{equation}\n",
    "F_{\\alpha}^3 \\quad is \\quad due \\quad to \\quad internalaction\n",
    "\\end{equation}"
   ]
  },
  {
   "cell_type": "markdown",
   "metadata": {},
   "source": [
    "The detail: parameter relation for the equation above\n",
    "\n",
    "\\begin{equation}\n",
    "u_{i,j}=B_{ij\\alpha}U_{\\alpha}--(30)\n",
    "\\end{equation}\n",
    "\\begin{equation}\n",
    "e_{ij}=0.5(B_{ij\\alpha}+B_{ij\\alpha})U_{\\alpha}--(31)\n",
    "\\end{equation}\n",
    "\\begin{equation}\n",
    "t_{ji} \\delta\\ e_{ij}=t_{ji} \\delta\\ u_{i,j}--(32)\n",
    "\\end{equation}\n",
    "\\begin{equation}\n",
    "t_{ji} \\delta\\ e_{ij}=t_{ij} \\ B_{ij\\alpha}\\delta\\ U_{\\alpha}--(33)\n",
    "\\end{equation}\n",
    "\\begin{equation}\n",
    "e_{mn} =B_{mn\\beta}\\ U_{\\beta}--(34)\n",
    "\\end{equation}\n",
    "\\begin{equation}\n",
    "\\dot{e}_{mn} =B_{mn\\beta}\\ \\dot{U}_{\\beta}--(35)\n",
    "\\end{equation}"
   ]
  },
  {
   "cell_type": "markdown",
   "metadata": {},
   "source": [
    "Note: we use the small strain theory:\n",
    "\\begin{equation}\n",
    "e_{ij}=0.5(u_{i,j}+u_{j,i})--(36)\n",
    "\\end{equation}\n",
    "\n",
    "\n"
   ]
  },
  {
   "cell_type": "code",
   "execution_count": null,
   "metadata": {
    "collapsed": true
   },
   "outputs": [],
   "source": []
  },
  {
   "cell_type": "markdown",
   "metadata": {},
   "source": [
    "Stress:the first term is initial stress, the second term is the thermal stress, the forth term is elastic stress and the last term is the damping stress\n",
    "\\begin{equation}    \n",
    "t_{ij}=\\alpha_{ji}+ \\beta_{ji}T+A_{jimn}e_{mn}+a_{jimn}\\dot{e}_{mn}--(37)\n",
    "\\end{equation}"
   ]
  },
  {
   "cell_type": "markdown",
   "metadata": {},
   "source": [
    "Now we can get the discreted form internalaction:"
   ]
  },
  {
   "cell_type": "markdown",
   "metadata": {},
   "source": [
    "\\begin{equation}   \n",
    "F_{\\alpha}^3=\\int_{\\text{v}}   t_{ij}\\ B_{ij\\alpha}    dV=\n",
    "\\int_{\\text{v}}   \\alpha_{ij}\\ B_{ij\\alpha}    dV\n",
    "-T_{q}\\int_{\\text{v}}  \\beta_{ji} \\ N_{q}\\ B_{ij\\alpha} dV\n",
    "+U_{ \\beta} \\int_{\\text{v}}  A_{jimn}\\  B_{ij\\alpha}\\ B_{mn\\beta}dV\n",
    "+U_{ \\beta} \\int_{\\text{v}}  a_{jimn}\\  B_{ij\\alpha}\\ B_{mn\\beta}dV\\\\\n",
    "=F_{\\alpha}^4-T_{q}P_{\\alpha q}+U_{\\beta}K_{\\alpha\\beta}+\\dot{U}_{\\beta}C_{\\alpha\\beta}--(38)\n",
    "\\end{equation}\n",
    "\n",
    "Specifically:\n",
    "\n",
    "\\begin{equation} \n",
    "\\int_{\\text{v}}   \\alpha_{ij}\\ B_{ij\\alpha}    dV=F_{\\alpha}^4\n",
    "\\end{equation}\n",
    "\\begin{equation} \n",
    "\\int_{\\text{v}}  \\beta_{ji} \\ N_{q}\\ B_{ij\\alpha} dV=P_{\\alpha q}\n",
    "\\end{equation}\n",
    "\\begin{equation} \n",
    "\\int_{\\text{v}}  A_{jimn}\\  B_{ij\\alpha}\\ B_{mn\\beta}dV=K_{\\alpha\\beta}\n",
    "\\end{equation}\n",
    "\\begin{equation} \n",
    "\\int_{\\text{v}}  a_{jimn}\\  B_{ij\\alpha}\\ B_{mn\\beta}dV=C_{\\alpha\\beta}\n",
    "\\end{equation}\n",
    "\n"
   ]
  },
  {
   "cell_type": "markdown",
   "metadata": {},
   "source": [
    "The discrete form of initial stress:\n",
    "\\begin{equation} \n",
    "\\int_{\\text{v}}   \\alpha_{ij}\\ B_{ij\\alpha}    dV=F_{\\alpha}^4\n",
    "\\end{equation}\n",
    "\n",
    "The discrete form of thermal stress:\n",
    "\\begin{equation} \n",
    "\\int_{\\text{v}}  \\beta_{ji} \\ N_{q}\\ B_{ij\\alpha} dV=P_{\\alpha q}\n",
    "\\end{equation}\n",
    "\n",
    "The discrete form of elastic stress:\n",
    "\\begin{equation} \n",
    "\\int_{\\text{v}}  A_{jimn}\\  B_{ij\\alpha}\\ B_{mn\\beta}dV=K_{\\alpha\\beta}\n",
    "\\end{equation}\n",
    "\n",
    "The discrete form of damping stress:\n",
    "\\begin{equation} \n",
    "\\int_{\\text{v}}  a_{jimn}\\  B_{ij\\alpha}\\ B_{mn\\beta}dV=C_{\\alpha\\beta}\n",
    "\\end{equation}"
   ]
  },
  {
   "cell_type": "markdown",
   "metadata": {},
   "source": [
    "As a reuslt:\n",
    "\\begin{equation}     \n",
    "F_{\\alpha}^3=F_{\\alpha}^4-T_{q}P_{\\alpha q}+U_{\\beta}K_{\\alpha\\beta}+\\dot{U}_{\\beta}C_{\\alpha\\beta}--(39)\n",
    "\\end{equation}    "
   ]
  },
  {
   "cell_type": "markdown",
   "metadata": {},
   "source": [
    "#### 2.5  The process of hwo we get the final Finite Element Method equation, which we can use to make a program:\n",
    "\\begin{equation}   \n",
    "\\delta\\ U_{\\alpha}\\ F_{\\alpha}^1+\\delta\\ U_{\\alpha}\\ \\ddot{U}_{\\beta}\\ M_{\\alpha\\beta}+\n",
    "\\delta\\ U_{\\alpha}\\ F_{\\alpha}^2-\\delta\\ U_{\\alpha}\\ F_{\\alpha}^3=0--(40)\n",
    "\\end{equation}\n"
   ]
  },
  {
   "cell_type": "markdown",
   "metadata": {},
   "source": [
    "\\begin{equation}   \n",
    "\\delta\\ U_{\\alpha} (M_{\\alpha\\beta}\\ddot{U}_{\\beta}+\\ F_{\\alpha}^3-\\ F_{\\alpha}^1-\\ F_{\\alpha}^2)=0\n",
    "\\end{equation}"
   ]
  },
  {
   "cell_type": "markdown",
   "metadata": {},
   "source": [
    "\\begin{equation}   \n",
    "M_{\\alpha\\beta}\\ddot{U}_{\\beta}+\\ F_{\\alpha}^3-\\ F_{\\alpha}^1-\\ F_{\\alpha}^2=0\n",
    "\\end{equation}"
   ]
  },
  {
   "cell_type": "markdown",
   "metadata": {},
   "source": [
    "\\begin{equation}   \n",
    "M_{\\alpha\\beta}\\ddot{U}_{\\beta}+\\ F_{\\alpha}^3=\\ F_{\\alpha}^1+\\ F_{\\alpha}^2\n",
    "\\end{equation}"
   ]
  },
  {
   "cell_type": "markdown",
   "metadata": {},
   "source": [
    "Mass Matrix\n",
    "\\begin{equation}   \n",
    "M_{\\alpha\\beta}\\ddot{U}_{\\beta} \n",
    "\\end{equation}\n",
    "\n",
    "Internal Internaction\n",
    "\\begin{equation}   \n",
    "F_{\\alpha}^3 \n",
    "\\end{equation}\n",
    "\n",
    "\n",
    "Body Force\n",
    "\\begin{equation}   \n",
    "F_{\\alpha}^1\n",
    "\\end{equation}\n",
    "\n",
    "Surface Traction\n",
    "\\begin{equation}   \n",
    "F_{\\alpha}^2\n",
    "\\end{equation}"
   ]
  },
  {
   "cell_type": "markdown",
   "metadata": {},
   "source": [
    "\n",
    "\\begin{equation}   \n",
    "M_{\\alpha\\beta}\\ddot{U}_+ C_{\\alpha\\beta}\\dot{U}_{\\beta}+ K_{\\alpha\\beta}U_{\\beta}=T_{q}P_{\\alpha q}-\\ F_{\\alpha}^4+  \\ F_{\\alpha}^1+\\ F_{\\alpha}^2--(41)\n",
    "\\end{equation}\n"
   ]
  },
  {
   "cell_type": "markdown",
   "metadata": {},
   "source": []
  },
  {
   "cell_type": "markdown",
   "metadata": {},
   "source": [
    "\n",
    "### 3  Now let us do the Coding!\n",
    "\n"
   ]
  },
  {
   "cell_type": "code",
   "execution_count": null,
   "metadata": {
    "collapsed": true
   },
   "outputs": [],
   "source": []
  },
  {
   "cell_type": "code",
   "execution_count": 23,
   "metadata": {
    "collapsed": true
   },
   "outputs": [],
   "source": [
    "import numpy\n",
    "from sympy import *\n",
    "init_printing(use_unicode=True)\n",
    "import scipy.integrate\n",
    "from matplotlib import pyplot  \n",
    "%matplotlib inline"
   ]
  },
  {
   "cell_type": "code",
   "execution_count": null,
   "metadata": {
    "collapsed": true
   },
   "outputs": [],
   "source": []
  },
  {
   "cell_type": "code",
   "execution_count": 24,
   "metadata": {
    "collapsed": false
   },
   "outputs": [
    {
     "name": "stdout",
     "output_type": "stream",
     "text": [
      "The Below is for the Stiffness matrix\n"
     ]
    }
   ],
   "source": [
    "print(\"The Below is for the Stiffness matrix\")"
   ]
  },
  {
   "cell_type": "markdown",
   "metadata": {
    "collapsed": true
   },
   "source": []
  },
  {
   "cell_type": "markdown",
   "metadata": {},
   "source": [
    "##### The Function \"NewWayToAss\" works to assemble the single matrix inlcuing Stiness Matrix, Mass Matrix, Damping Matrix into a global Stiness Matrix, Mass Matrix, Damping Matrix."
   ]
  },
  {
   "cell_type": "code",
   "execution_count": 25,
   "metadata": {
    "collapsed": true
   },
   "outputs": [],
   "source": [
    "#--Assembel Function----Assembel Function----Assembel Function----Assembel Function----Assembel Function----Assembel Function--\n",
    "def NewWayToAss(K1,S):    \n",
    "        \n",
    "    KK1=zeros(36,36)\n",
    "    \n",
    "    for i in range(24):    \n",
    "    \n",
    "       for j in range(24) :\n",
    "            a=S[i]\n",
    "            b=S[j]\n",
    "            c=K1[i,j]    \n",
    "            KK1[a,b]=c\n",
    "        \n",
    "    return KK1     \n",
    "\n",
    "#--Assembel Function----Assembel Function----Assembel Function----Assembel Function----Assembel Function----Assembel Function--"
   ]
  },
  {
   "cell_type": "code",
   "execution_count": null,
   "metadata": {
    "collapsed": true
   },
   "outputs": [],
   "source": []
  },
  {
   "cell_type": "markdown",
   "metadata": {},
   "source": [
    "##### The Function \"GetSifnessMatrix3D\" works to us the phsical coordinate of input geometery and the Youngs Module and Possional Ration to geneate the stiffness of a single matrix"
   ]
  },
  {
   "cell_type": "code",
   "execution_count": 26,
   "metadata": {
    "collapsed": false
   },
   "outputs": [],
   "source": [
    "#--Stiffness Function----Stiffness Function----Stiffness Function----Stiffness Function----Stiffness Function----Stiffness Function--\n",
    "def GetStiffinessMatrix3D(X1,Y1,Z1,  X2,Y2,Z2,  X3,Y3,Z3,  X4,Y4,Z4,  X5,Y5,Z5,  X6,Y6,Z6,  X7,Y7,Z7,  X8,Y8,Z8, Young,P):\n",
    "    \n",
    "    \n",
    "    a=Young\n",
    "    b=P\n",
    "    C = a/((1+b)*(1-2*b))*Matrix([[(1-b),     b,     b,         0,         0,         0], \n",
    "                                  [    b,  (1-b),    b,         0,         0,         0], \n",
    "                                  [    b,     b, (1-b),         0,         0,         0], \n",
    "                                  [    0,     0,     0, (1-2*b)/2,         0,         0],\n",
    "                                  [    0,     0,     0,         0, (1-2*b)/2,         0], \n",
    "                                  [    0,     0,     0,         0,         0, (1-2*b)/2]])   \n",
    "    \n",
    "   \n",
    "    \n",
    "#==================================================================================================\n",
    "    Xphysical=Matrix([0,0,0,0,0,0,0,0])\n",
    "    Yphysical=Matrix([0,0,0,0,0,0,0,0])\n",
    "    Zphysical=Matrix([0,0,0,0,0,0,0,0])\n",
    "    Xphysical[0]=X1\n",
    "    Xphysical[1]=X2\n",
    "    Xphysical[2]=X3\n",
    "    Xphysical[3]=X4\n",
    "    Xphysical[4]=X5\n",
    "    Xphysical[5]=X6\n",
    "    Xphysical[6]=X7\n",
    "    Xphysical[7]=X8\n",
    "\n",
    "    Yphysical[0]=Y1\n",
    "    Yphysical[1]=Y2\n",
    "    Yphysical[2]=Y3\n",
    "    Yphysical[3]=Y4\n",
    "    Yphysical[4]=Y5\n",
    "    Yphysical[5]=Y6\n",
    "    Yphysical[6]=Y7\n",
    "    Yphysical[7]=Y8\n",
    "\n",
    "    Zphysical[0]=Z1\n",
    "    Zphysical[1]=Z2\n",
    "    Zphysical[2]=Z3\n",
    "    Zphysical[3]=Z4\n",
    "    Zphysical[4]=Z5\n",
    "    Zphysical[5]=Z6\n",
    "    Zphysical[6]=Z7\n",
    "    Zphysical[7]=Z8\n",
    "\n",
    " \n",
    "    r,s,t=symbols('r s t')\n",
    "    N1=0.125*(1-r)*(1-s)*(1+t)\n",
    "    N2=0.125*(1+r)*(1-s)*(1+t)\n",
    "    N3=0.125*(1+r)*(1+s)*(1+t)\n",
    "    N4=0.125*(1-r)*(1+s)*(1+t)\n",
    "    N5=0.125*(1-r)*(1-s)*(1-t)\n",
    "    N6=0.125*(1+r)*(1-s)*(1-t)\n",
    "    N7=0.125*(1+r)*(1+s)*(1-t)\n",
    "    N8=0.125*(1-r)*(1+s)*(1-t)\n",
    "    N_matrix = Matrix([[N1],[N2],[N3],[N4],[N5],[N6],[N7],[N8]])\n",
    "\n",
    "\n",
    "\n",
    "    X=N_matrix.dot(Xphysical)\n",
    "    Y=N_matrix.dot(Yphysical)\n",
    "    Z=N_matrix.dot(Zphysical)\n",
    "\n",
    "\n",
    "    dXdr=diff(X,r)\n",
    "    dYdr=diff(Y,r)\n",
    "    dZdr=diff(Z,r)\n",
    "\n",
    "    dXds=diff(X,s)\n",
    "    dYds=diff(Y,s)\n",
    "    dZds=diff(Z,s)\n",
    "\n",
    "    dXdt=diff(X,t)\n",
    "    dYdt=diff(Y,t)\n",
    "    dZdt=diff(Z,t)\n",
    "    #----------------------\n",
    "    dXdr=simplify(dXdr)\n",
    "    dYdr=simplify(dYdr)\n",
    "    dZdr=simplify(dZdr)\n",
    "\n",
    "    dXds=simplify(dXds)\n",
    "    dYds=simplify(dYds)\n",
    "    dZds=simplify(dZds)\n",
    "\n",
    "    dXdt=simplify(dXdt)\n",
    "    dYdt=simplify(dYdt)\n",
    "    dZdt=simplify(dZdt)\n",
    "\n",
    "        \n",
    "    J=Matrix([[dXdr,dYdr,dZdr],[dXds,dYds,dZds],[dXdt,dYdt,dZdt]])\n",
    "   \n",
    "    J_Inversed=J**-1\n",
    "\n",
    "#++++++++++++++++++++++++++++++++++++++++++++++++++++++++++++++++++++++++++++++++++++++++++++++++++++++++++++++++++++++++++    \n",
    "#    u_Up=Matrix([[N1,  0,  0,    N2,  0,  0,    N3,  0,  0,    N4,  0,  0,    N5,  0,  0,    N6,  0,  0,    N7,  0,  0,    N8,  0,   0],\n",
    "#                 [0,   0,  0,    0,   0,  0,    0,   0,  0,    0,   0,  0,    0,   0,  0,    0,   0,  0,    0,   0,  0,    0,   0,   0],\n",
    "#                 [0,   0,  0,    0,   0,  0,    0,   0,  0,    0,   0,  0,    0,   0,  0,    0,   0,  0,    0,   0,  0,    0,   0,   0]])\n",
    "\n",
    "#    u_Middle=Matrix([[0,  0,  0,     0,   0,  0,    0,   0,  0,    0,   0,  0,    0,   0,  0,    0,   0,  0,    0,   0,  0,    0,   0,   0],\n",
    "#                     [N1, 0,  0,     N2,  0,  0,    N3,  0,  0,    N4,  0,  0,    N5,  0,  0,    N6,  0,  0,    N7,  0,  0,    N8,  0,   0],\n",
    "#                     [0,  0,  0,     0,   0,  0,    0,   0,  0,    0,   0,  0,    0,   0,  0,    0,   0,  0,    0,   0,  0,    0,   0,   0]])\n",
    "\n",
    "#    u_Down=Matrix([[0,  0,  0,     0,   0,  0,    0,   0,  0,    0,   0,  0,    0,   0,  0,    0,   0,  0,    0,   0,  0,    0,   0,   0],\n",
    "#                   [0,  0,  0,     0,   0,  0,    0,   0,  0,    0,   0,  0,    0,   0,  0,    0,   0,  0,    0,   0,  0,    0,   0,   0],\n",
    "#                   [N1, 0,  0,     N2,  0,  0,    N3,  0,  0,    N4,  0,  0,    N5,  0,  0,    N6,  0,  0,    N7,  0,  0,    N8,  0,   0]])\n",
    "    \n",
    "    New_u_Up=zeros(3,24)\n",
    "    New_u_Up[0,0]=N1\n",
    "    New_u_Up[0,3]=N2\n",
    "    New_u_Up[0,6]=N3\n",
    "    New_u_Up[0,9]=N4\n",
    "    New_u_Up[0,12]=N5\n",
    "    New_u_Up[0,15]=N6\n",
    "    New_u_Up[0,18]=N7\n",
    "    New_u_Up[0,21]=N8\n",
    "    #print(New_u_Up)    \n",
    "    #print(New_u_Up-u_Up)\n",
    "    u_Up=New_u_Up\n",
    "\n",
    "\n",
    "    New_u_Middle=zeros(3,24)\n",
    "    New_u_Middle[1,0]=N1\n",
    "    New_u_Middle[1,3]=N2\n",
    "    New_u_Middle[1,6]=N3\n",
    "    New_u_Middle[1,9]=N4\n",
    "    New_u_Middle[1,12]=N5\n",
    "    New_u_Middle[1,15]=N6\n",
    "    New_u_Middle[1,18]=N7\n",
    "    New_u_Middle[1,21]=N8\n",
    "    #print(New_u_Middle)    \n",
    "    #print(New_u_Middle-u_Middle)\n",
    "    u_Middle=New_u_Middle\n",
    "\n",
    "\n",
    "    New_u_Down=zeros(3,24)\n",
    "    New_u_Down[2,0]=N1\n",
    "    New_u_Down[2,3]=N2\n",
    "    New_u_Down[2,6]=N3\n",
    "    New_u_Down[2,9]=N4\n",
    "    New_u_Down[2,12]=N5\n",
    "    New_u_Down[2,15]=N6\n",
    "    New_u_Down[2,18]=N7\n",
    "    New_u_Down[2,21]=N8\n",
    "    #print(New_u_Down)    \n",
    "    #print(New_u_Down-u_Down)\n",
    "    u_Down=New_u_Down\n",
    "    \n",
    "    \n",
    "    \n",
    "\n",
    "  \n",
    "    du_Up_divided_by_dr=u_Up.diff(r)\n",
    "\n",
    "    \n",
    "\n",
    "    du_Middle_divided_by_ds=u_Middle.diff(s)\n",
    "\n",
    "   \n",
    "\n",
    "    du_Down_divided_by_dt=u_Down.diff(t)\n",
    "\n",
    "    \n",
    "    du_divided_by_dr_and_du_divided_by_ds_and_du_divided_by_dt=du_Up_divided_by_dr + du_Middle_divided_by_ds + du_Down_divided_by_dt\n",
    "\n",
    "\n",
    "#++++++++++++++++++++++++++++++++++++++++++++++++++++++++++++++++++++++++++++++++++++++++++++++++++++++++++++++++++++++++++        \n",
    "    \n",
    "#    v_Up=Matrix([[0,  N1,  0,    0,  N2,  0,    0,  N3,  0,    0,  N4,  0,    0,  N5,  0,    0,  N6,  0,    0,  N7,  0,    0,  N8,   0],\n",
    "#                 [0,   0,  0,    0,   0,  0,    0,   0,  0,    0,   0,  0,    0,   0,  0,    0,   0,  0,    0,   0,  0,    0,   0,   0],\n",
    "#                 [0,   0,  0,    0,   0,  0,    0,   0,  0,    0,   0,  0,    0,   0,  0,    0,   0,  0,    0,   0,  0,    0,   0,   0]])\n",
    "\n",
    "#    v_Middle=Matrix([[0,   0,  0,    0,   0,  0,    0,   0,  0,    0,   0,  0,    0,   0,  0,    0,   0,  0,    0,   0,  0,    0,   0,   0],\n",
    "#                     [0,  N1,  0,    0,  N2,  0,    0,  N3,  0,    0,  N4,  0,    0,  N5,  0,    0,  N6,  0,    0,  N7,  0,    0,  N8,   0],\n",
    "#                     [0,   0,  0,    0,   0,  0,    0,   0,  0,    0,   0,  0,    0,   0,  0,    0,   0,  0,    0,   0,  0,    0,   0,   0]])\n",
    " \n",
    "#    v_Down=Matrix([[0,   0,  0,    0,   0,  0,    0,   0,  0,    0,   0,  0,    0,   0,  0,    0,   0,  0,    0,   0,  0,    0,   0,   0],\n",
    "#                   [0,   0,  0,    0,   0,  0,    0,   0,  0,    0,   0,  0,    0,   0,  0,    0,   0,  0,    0,   0,  0,    0,   0,   0],\n",
    "#                   [0,  N1,  0,    0,  N2,  0,    0,  N3,  0,    0,  N4,  0,    0,  N5,  0,    0,  N6,  0,    0,  N7,  0,    0,  N8,   0]])\n",
    "\n",
    "\n",
    "    New_v_Up=zeros(3,24)\n",
    "    New_v_Up[0,1]=N1\n",
    "    New_v_Up[0,4]=N2\n",
    "    New_v_Up[0,7]=N3\n",
    "    New_v_Up[0,10]=N4\n",
    "    New_v_Up[0,13]=N5\n",
    "    New_v_Up[0,16]=N6\n",
    "    New_v_Up[0,19]=N7\n",
    "    New_v_Up[0,22]=N8\n",
    "    #print(New_v_Up)    \n",
    "    #print(New_v_Up-v_Up)\n",
    "    v_Up=New_v_Up\n",
    "\n",
    "\n",
    "    New_v_Middle=zeros(3,24)\n",
    "    New_v_Middle[1,1]=N1\n",
    "    New_v_Middle[1,4]=N2\n",
    "    New_v_Middle[1,7]=N3\n",
    "    New_v_Middle[1,10]=N4\n",
    "    New_v_Middle[1,13]=N5\n",
    "    New_v_Middle[1,16]=N6\n",
    "    New_v_Middle[1,19]=N7\n",
    "    New_v_Middle[1,22]=N8\n",
    "    #print(New_v_Middle)    \n",
    "    #print(New_v_Middle-v_Middle)\n",
    "    v_Middle=New_v_Middle\n",
    "\n",
    "\n",
    "\n",
    "\n",
    "    New_v_Down=zeros(3,24)\n",
    "    New_v_Down[2,1]=N1\n",
    "    New_v_Down[2,4]=N2\n",
    "    New_v_Down[2,7]=N3\n",
    "    New_v_Down[2,10]=N4\n",
    "    New_v_Down[2,13]=N5\n",
    "    New_v_Down[2,16]=N6\n",
    "    New_v_Down[2,19]=N7\n",
    "    New_v_Down[2,22]=N8\n",
    "    #print(New_v_Down)    \n",
    "    #print(New_v_Down-v_Down)\n",
    "    v_Down=New_v_Down\n",
    "\n",
    "\n",
    "\n",
    "\n",
    "    dv_Up_divided_by_dr=v_Up.diff(r)\n",
    "\n",
    "    dv_Middle_divided_by_ds=v_Middle.diff(s)\n",
    "\n",
    "    dv_Down_divided_by_dt=v_Down.diff(t)\n",
    "\n",
    "    dv_divided_by_dr_and_dv_divided_by_ds_and_dv_divided_by_dt=dv_Up_divided_by_dr+dv_Middle_divided_by_ds+dv_Down_divided_by_dt\n",
    "    \n",
    "    \n",
    "#+++++++++++++++++++++++++++++++++++++++++++++++++++++++++++++++++++++++++++++++++++++++++++++++++++++++++++++++++++++++++++++++++++++++        \n",
    "#    w_Up=Matrix([[0,   0,  N1,   0,   0, N2,    0,   0, N3,    0,   0, N4,    0,   0, N5,    0,   0, N6,    0,   0, N7,    0,   0,  N8],\n",
    "#                  [0,   0,  0,    0,   0,  0,    0,   0,  0,    0,   0,  0,    0,   0,  0,    0,   0,  0,    0,   0,  0,    0,   0,   0],\n",
    "#                  [0,   0,  0,    0,   0,  0,    0,   0,  0,    0,   0,  0,    0,   0,  0,    0,   0,  0,    0,   0,  0,    0,   0,   0]])\n",
    "\n",
    "#    w_Middle=Matrix([[0,   0,  0,    0,   0,  0,    0,   0,  0,    0,   0,  0,    0,   0,  0,    0,   0,  0,    0,   0,  0,    0,   0,   0],\n",
    "#                     [0,   0,  N1,   0,   0, N2,    0,   0, N3,    0,   0, N4,    0,   0, N5,    0,   0, N6,    0,   0, N7,    0,   0,  N8],\n",
    "#                     [0,   0,  0,    0,   0,  0,    0,   0,  0,    0,   0,  0,    0,   0,  0,    0,   0,  0,    0,   0,  0,    0,   0,   0]])\n",
    "\n",
    "#    w_Down=Matrix([[0,   0,  0,    0,   0,  0,    0,   0,  0,    0,   0,  0,    0,   0,  0,    0,   0,  0,    0,   0,  0,    0,   0,   0],\n",
    "#                   [0,   0,  0,    0,   0,  0,    0,   0,  0,    0,   0,  0,    0,   0,  0,    0,   0,  0,    0,   0,  0,    0,   0,   0],\n",
    "#                   [0,   0,  N1,   0,   0, N2,    0,   0, N3,    0,   0, N4,    0,   0, N5,    0,   0, N6,    0,   0, N7,    0,   0,  N8]])\n",
    "\n",
    "\n",
    "\n",
    "    New_w_Up=zeros(3,24)\n",
    "    New_w_Up[0,2]=N1\n",
    "    New_w_Up[0,5]=N2\n",
    "    New_w_Up[0,8]=N3\n",
    "    New_w_Up[0,11]=N4\n",
    "    New_w_Up[0,14]=N5\n",
    "    New_w_Up[0,17]=N6\n",
    "    New_w_Up[0,20]=N7\n",
    "    New_w_Up[0,23]=N8\n",
    "    #print(New_w_Up)    \n",
    "    #print(New_w_Up-w_Up)\n",
    "    w_Up=New_w_Up\n",
    "\n",
    "\n",
    "    New_w_Middle=zeros(3,24)\n",
    "    New_w_Middle[1,2]=N1\n",
    "    New_w_Middle[1,5]=N2\n",
    "    New_w_Middle[1,8]=N3\n",
    "    New_w_Middle[1,11]=N4\n",
    "    New_w_Middle[1,14]=N5\n",
    "    New_w_Middle[1,17]=N6\n",
    "    New_w_Middle[1,20]=N7\n",
    "    New_w_Middle[1,23]=N8\n",
    "    #print(New_w_Middle)    \n",
    "    #print(New_w_Middle-w_Middle)\n",
    "    w_Middle=New_w_Middle\n",
    "\n",
    "\n",
    "\n",
    "    New_w_Down=zeros(3,24)\n",
    "    New_w_Down[2,2]=N1\n",
    "    New_w_Down[2,5]=N2\n",
    "    New_w_Down[2,8]=N3\n",
    "    New_w_Down[2,11]=N4\n",
    "    New_w_Down[2,14]=N5\n",
    "    New_w_Down[2,17]=N6\n",
    "    New_w_Down[2,20]=N7\n",
    "    New_w_Down[2,23]=N8\n",
    "    #print(New_w_Down)    \n",
    "    #print(New_w_Down-w_Down)\n",
    "    w_Down=New_w_Down  \n",
    "    \n",
    "\n",
    "\n",
    "\n",
    "\n",
    "\n",
    "\n",
    "\n",
    "    dw_Up_divided_by_dr=w_Up.diff(r)\n",
    "    \n",
    "    dw_Middle_divided_by_ds=w_Middle.diff(s)\n",
    "\n",
    "    dw_Down_divided_by_dt=w_Down.diff(t)\n",
    "\n",
    "    dw_divided_by_dr_and_dw_divided_by_ds_and_dw_divided_by_dt=dw_Up_divided_by_dr+dw_Middle_divided_by_ds+dw_Down_divided_by_dt\n",
    "\n",
    "    \n",
    "#+++++++++++++++++++++++++++++++++++++++++++++++++++++++++++++++++++++++++++++++++++++++++++++++++++++++++++++++++++++++++++++++++++++++       \n",
    "    \n",
    "    du_divided_by_dx_and_du_divided_by_dy_and_du_divided_by_dz=J_Inversed*du_divided_by_dr_and_du_divided_by_ds_and_du_divided_by_dt\n",
    "\n",
    "    dv_divided_by_dx_and_dv_divided_by_dy_and_dv_divided_by_dz=J_Inversed*dv_divided_by_dr_and_dv_divided_by_ds_and_dv_divided_by_dt\n",
    "\n",
    "    dw_divided_by_dx_and_dw_divided_by_dy_and_dw_divided_by_dz=J_Inversed*dw_divided_by_dr_and_dw_divided_by_ds_and_dw_divided_by_dt\n",
    "\n",
    "    \n",
    "#+++++++++++++++++++++++++++++++++++++++++++++++++++++++++++++++++++++++++++++++++++++++++++++++++++++++++++++++++++++++++++++++++++++++        \n",
    "#    strain_3D= Matrix([[0, 0, 0, 0,0, 0, 0, 0,0, 0, 0, 0,0, 0, 0, 0,0, 0, 0, 0,0, 0, 0, 0], \n",
    "#                       [0, 0, 0, 0,0, 0, 0, 0,0, 0, 0, 0,0, 0, 0, 0,0, 0, 0, 0,0, 0, 0, 0], \n",
    "#                       [0, 0, 0, 0,0, 0, 0, 0,0, 0, 0, 0,0, 0, 0, 0,0, 0, 0, 0,0, 0, 0, 0], \n",
    "#                       [0, 0, 0, 0,0, 0, 0, 0,0, 0, 0, 0,0, 0, 0, 0,0, 0, 0, 0,0, 0, 0, 0], \n",
    "#                       [0, 0, 0, 0,0, 0, 0, 0,0, 0, 0, 0,0, 0, 0, 0,0, 0, 0, 0,0, 0, 0, 0], \n",
    "#                       [0, 0, 0, 0,0, 0, 0, 0,0, 0, 0, 0,0, 0, 0, 0,0, 0, 0, 0,0, 0, 0, 0]]) \n",
    "    strain_3D = zeros(6,24)\n",
    "  \n",
    "   \n",
    "    strain_3D[0,:]=du_divided_by_dx_and_du_divided_by_dy_and_du_divided_by_dz[0,:]\n",
    "    strain_3D[1,:]=dv_divided_by_dx_and_dv_divided_by_dy_and_dv_divided_by_dz[1,:]\n",
    "    strain_3D[2,:]=dw_divided_by_dx_and_dw_divided_by_dy_and_dw_divided_by_dz[2,:]\n",
    "\n",
    "    strain_3D[3,:]=du_divided_by_dx_and_du_divided_by_dy_and_du_divided_by_dz[1,:]+dv_divided_by_dx_and_dv_divided_by_dy_and_dv_divided_by_dz[0,:]\n",
    "    strain_3D[4,:]=dv_divided_by_dx_and_dv_divided_by_dy_and_dv_divided_by_dz[2,:]+dw_divided_by_dx_and_dw_divided_by_dy_and_dw_divided_by_dz[1,:]\n",
    "    strain_3D[5,:]=du_divided_by_dx_and_du_divided_by_dy_and_du_divided_by_dz[2,:]+dw_divided_by_dx_and_dw_divided_by_dy_and_dw_divided_by_dz[0,:]\n",
    "\n",
    "    \n",
    "    B=strain_3D \n",
    "#+++++++++++++++++++++++++++++++++++++++++++++++++++++++++++++++++++++++++++++++++++++++++++++++++++++++++++++++++++++++++++++++++++++++       \n",
    "    Jdet=J.det()\n",
    "    Btranspose=B.T\n",
    "    K=Btranspose*C*B*Jdet\n",
    "    fun=K\n",
    "\n",
    "    result1=integrate(fun, (r, -1, 1))\n",
    "    result2=integrate(result1, (s, -1, 1))\n",
    "    result3=integrate(result2, (t, -1, 1))\n",
    "    K=result3\n",
    "    #print(K)\n",
    "    det=K.det()   \n",
    "    #print(K.det)     \n",
    "    \n",
    "    \n",
    "    \n",
    "    \n",
    "    \n",
    "    return K\n",
    "#--Stiffness Function----Stiffness Function----Stiffness Function----Stiffness Function----Stiffness Function----Stiffness Function--"
   ]
  },
  {
   "cell_type": "code",
   "execution_count": null,
   "metadata": {
    "collapsed": true
   },
   "outputs": [],
   "source": []
  },
  {
   "cell_type": "markdown",
   "metadata": {},
   "source": [
    "##### The programm below is use the physical coordinate  matrix \"gcoord\", connectivity matrix \"nodes\" ,  young's module, possion 's ratio to generate a gobal Stiffness Matrix by the  \"GetSifnessMatrix3D\"  Function and the \"NewWayToAss\" Function.\n",
    "\n"
   ]
  },
  {
   "cell_type": "code",
   "execution_count": 27,
   "metadata": {
    "collapsed": false
   },
   "outputs": [],
   "source": [
    "gcoord=Matrix([[1,     2,     1,     0],\n",
    "               [2,     2,     1,     1],\n",
    "               [3,     1,     1,     1],\n",
    "               [4,     0,     1,     1],\n",
    "               [5,     0,     1,     0],\n",
    "               [6,     1,     1,     0],\n",
    "               [7,     2,     0,     0],\n",
    "               [8,     2,     0,     1],\n",
    "               [9,     1,     0,     1],\n",
    "               [10,     1,     0,     0],\n",
    "               [11,     0,     0,     1],\n",
    "               [12,     0,     0,     0]])\n",
    "nodes=Matrix([[7,     8,     9,    10,     1,     2,     3,     6],\n",
    "              [10,    9,    11,    12,     6,     3,     4,     5]])\n",
    "#+++++++++++++++++++++++++++++++++++++++++++++++++++++++++++++++++++++++++++++++++++++++++++++++++++++++++++=\n",
    "nel=2 # number of elements\n",
    "nnel=8  # number of nodes per element\n",
    "NodesToThreeD=zeros(nel,24)\n",
    "nd=zeros(1,8)\n",
    "#====================================\n",
    "\n",
    "g=12*3   #g=the number of node is 12 ,so the total degree of freedom is 12 * 3\n",
    "sum=zeros(g,g)\n",
    "\n",
    "for i in range(nel):\n",
    "    #print(\"i=\",i)\n",
    "    \n",
    "    xcoord=zeros(1,8)\n",
    "    ycoord=zeros(1,8)\n",
    "    zcoord=zeros(1,8)\n",
    "    \n",
    "    for j in range(nnel):\n",
    "        #print(\"j=\",j)\n",
    "        \n",
    "        nd=nodes[i,j]\n",
    "        \n",
    "        #print(\"nde=\",nd)\n",
    "        \n",
    "        \n",
    "        \n",
    "        nd=nd-1\n",
    "        xcoord[j]=gcoord[nd,1]      \n",
    "        ycoord[j]=gcoord[nd,2]        \n",
    "        zcoord[j]=gcoord[nd,3]\n",
    "        \n",
    "        \n",
    "        #print(\"xcoord[\",j,\"}=\",xcoord[j])\n",
    "        #print(\"ycoord[\",j,\"}=\",ycoord[j])\n",
    "        #print(\"zcoord[\",j,\"}=\",zcoord[j])\n",
    "        \n",
    "    #print(\"xcoord=\",xcoord)\n",
    "    #print(\"ycoord=\",ycoord)\n",
    "    #print(\"zcoord=\",zcoord)\n",
    "  \n",
    "    X1=xcoord[0]  \n",
    "    Y1=ycoord[0]  \n",
    "    Z1=zcoord[0] \n",
    "    \n",
    "    X2=xcoord[1]  \n",
    "    Y2=ycoord[1]  \n",
    "    Z2=zcoord[1]\n",
    "    \n",
    "    X3=xcoord[2]  \n",
    "    Y3=ycoord[2]  \n",
    "    Z3=zcoord[2] \n",
    "    \n",
    "    X4=xcoord[3]  \n",
    "    Y4=ycoord[3]  \n",
    "    Z4=zcoord[3]\n",
    "    \n",
    "    X5=xcoord[4]  \n",
    "    Y5=ycoord[4]  \n",
    "    Z5=zcoord[4]\n",
    "    \n",
    "    X6=xcoord[5]  \n",
    "    Y6=ycoord[5]  \n",
    "    Z6=zcoord[5] \n",
    "    \n",
    "    X7=xcoord[6]  \n",
    "    Y7=ycoord[6]    \n",
    "    Z7=zcoord[6] \n",
    "    \n",
    "    X8=xcoord[7]  \n",
    "    Y8=ycoord[7]  \n",
    "    Z8=zcoord[7]\n",
    "    Young=10000\n",
    "    P=0.45\n",
    "    \n",
    "    #print(\"X1=\",X1)\n",
    "    #print(\"Y1=\",Y1)\n",
    "    #print(\"Z1=\",Z1)\n",
    "    \n",
    "    #print(\"X2=\",X2)\n",
    "    #print(\"Y2=\",Y2)\n",
    "    #print(\"Z2=\",Z2)\n",
    "    \n",
    "    #print(\"X3=\",X3)\n",
    "    #print(\"Y3=\",Y3)\n",
    "    #print(\"Z3=\",Z3)\n",
    "    \n",
    "    #print(\"X4=\",X4)\n",
    "    #print(\"Y4=\",Y4)\n",
    "    #print(\"Z4=\",Z4)\n",
    "    \n",
    "    #print(\"X5=\",X5)\n",
    "    #print(\"Y5=\",Y5)\n",
    "    #print(\"Z5=\",Z5)\n",
    "    \n",
    "    #print(\"X6=\",X6)\n",
    "    #print(\"Y6=\",Y6)\n",
    "    #print(\"Z6=\",Z6)\n",
    "    \n",
    "    #print(\"X7=\",X7)\n",
    "    #print(\"Y7=\",Y7)\n",
    "    #print(\"Z7=\",Z7)\n",
    "    \n",
    "    #print(\"X8=\",X8)\n",
    "    #print(\"Y8=\",Y8)\n",
    "    #print(\"Z8=\",Z8)\n",
    "   \n",
    "    \n",
    "   \n",
    "    K=GetStiffinessMatrix3D(X1,Y1,Z1,  X2,Y2,Z2,  X3,Y3,Z3,  X4,Y4,Z4,  X5,Y5,Z5,  X6,Y6,Z6,  X7,Y7,Z7,  X8,Y8,Z8, Young,P)\n",
    "    \n",
    "    #print(\"K for i=\",i,\":\",K)\n",
    "    \n",
    "    #Connectivity Start\n",
    "    \n",
    "    for j in range(nnel):\n",
    "        a=nodes[i,j]\n",
    "        a1=3*a-2-1\n",
    "        a2=3*a-1-1\n",
    "        a3=3*a-1\n",
    "        j=(j+1)*3-2-1\n",
    "        NodesToThreeD[i,j]=a1\n",
    "        NodesToThreeD[i,j+1]=a2\n",
    "        NodesToThreeD[i,j+2]=a3     \n",
    "   \n",
    "    #print(\"NodesToThreeD for\",i,\"=\",NodesToThreeD)\n",
    " \n",
    "    S1=NodesToThreeD[i,:]   \n",
    "     \n",
    "    #print('one K1 !!!')\n",
    "    \n",
    "    K1=NewWayToAss(K,S1)\n",
    "    #--------------------------------------------------------------\n",
    "    #print(\"K1 for i=\",i,\":\",K1)\n",
    "    \n",
    "    #--------------------------------------------------------------  \n",
    "    \n",
    "    \n",
    "    \n",
    "    #print(K1)\n",
    "    \n",
    "    #print(\"Dimension of K1 when i=\",i ,\":\", K1.shape)\n",
    "    #print(\"Determination of K1 when i=\",i ,\":\", K1.det())\n",
    "    \n",
    "    sum=sum+K1 \n",
    "     \n",
    "    \n",
    "\n",
    "\n",
    "Ksum=sum\n",
    "#print(\"Ksum=\",Ksum)"
   ]
  },
  {
   "cell_type": "code",
   "execution_count": null,
   "metadata": {
    "collapsed": true
   },
   "outputs": [],
   "source": []
  },
  {
   "cell_type": "code",
   "execution_count": 28,
   "metadata": {
    "collapsed": false
   },
   "outputs": [
    {
     "data": {
      "text/plain": [
       "1.02627261754314e+35"
      ]
     },
     "execution_count": 28,
     "metadata": {},
     "output_type": "execute_result"
    }
   ],
   "source": [
    "det(Ksum)"
   ]
  },
  {
   "cell_type": "code",
   "execution_count": 29,
   "metadata": {
    "collapsed": false
   },
   "outputs": [],
   "source": [
    "?Matrix()\n"
   ]
  },
  {
   "cell_type": "code",
   "execution_count": null,
   "metadata": {
    "collapsed": true
   },
   "outputs": [],
   "source": []
  },
  {
   "cell_type": "code",
   "execution_count": 30,
   "metadata": {
    "collapsed": true
   },
   "outputs": [],
   "source": [
    "h=Ksum\n",
    "#for x in range(36):\n",
    "#    print(\"good\")\n",
    "for x in range(36):\n",
    "    for y in range(36):\n",
    "        if h[i,j]!=h[j,i]:\n",
    "             print(\"Error\")"
   ]
  },
  {
   "cell_type": "code",
   "execution_count": null,
   "metadata": {
    "collapsed": true
   },
   "outputs": [],
   "source": []
  },
  {
   "cell_type": "code",
   "execution_count": 31,
   "metadata": {
    "collapsed": false
   },
   "outputs": [
    {
     "name": "stdout",
     "output_type": "stream",
     "text": [
      "The Below is for the Mass matrix\n"
     ]
    }
   ],
   "source": [
    "print(\"The Below is for the Mass matrix\")"
   ]
  },
  {
   "cell_type": "markdown",
   "metadata": {
    "collapsed": true
   },
   "source": [
    "##### The Function\"GetMassMatrix3D\" works to use phyiscal coordinate and density to generate the Mass Matrix "
   ]
  },
  {
   "cell_type": "code",
   "execution_count": 32,
   "metadata": {
    "collapsed": true
   },
   "outputs": [],
   "source": [
    "#--Mass Function----Mass Function----Mass Function----Mass Function----Mass Function----Mass Function----Mass Function----Mass Function---\n",
    "def GetMassMatrix3D( X1,Y1,Z1,  X2,Y2,Z2,  X3,Y3,Z3,  X4,Y4,Z4,  X5,Y5,Z5,  X6,Y6,Z6,  X7,Y7,Z7,  X8,Y8,Z8, Density ):\n",
    "    \n",
    "        \n",
    "\n",
    "    \n",
    "#==================================================================================================\n",
    "    Xphysical=Matrix([0,0,0,0,0,0,0,0])\n",
    "    Yphysical=Matrix([0,0,0,0,0,0,0,0])\n",
    "    Zphysical=Matrix([0,0,0,0,0,0,0,0])\n",
    "    Xphysical[0]=X1\n",
    "    Xphysical[1]=X2\n",
    "    Xphysical[2]=X3\n",
    "    Xphysical[3]=X4\n",
    "    Xphysical[4]=X5\n",
    "    Xphysical[5]=X6\n",
    "    Xphysical[6]=X7\n",
    "    Xphysical[7]=X8\n",
    "\n",
    "    Yphysical[0]=Y1\n",
    "    Yphysical[1]=Y2\n",
    "    Yphysical[2]=Y3\n",
    "    Yphysical[3]=Y4\n",
    "    Yphysical[4]=Y5\n",
    "    Yphysical[5]=Y6\n",
    "    Yphysical[6]=Y7\n",
    "    Yphysical[7]=Y8\n",
    "\n",
    "    Zphysical[0]=Z1\n",
    "    Zphysical[1]=Z2\n",
    "    Zphysical[2]=Z3\n",
    "    Zphysical[3]=Z4\n",
    "    Zphysical[4]=Z5\n",
    "    Zphysical[5]=Z6\n",
    "    Zphysical[6]=Z7\n",
    "    Zphysical[7]=Z8\n",
    "\n",
    "    #print(Zphysical)\n",
    "\n",
    "    #Xphysical=Matrix([0,1,1,0,0,1,1,0])\n",
    "    #Yphysical=Matrix([0,0,1,1,0,0,1,1])\n",
    "    #Zphysical=Matrix([1,1,1,1,0,0,0,0])\n",
    "    #print(Zphysical)\n",
    "\n",
    "    r,s,t=symbols('r s t')\n",
    "    N1=0.125*(1-r)*(1-s)*(1+t)\n",
    "    N2=0.125*(1+r)*(1-s)*(1+t)\n",
    "    N3=0.125*(1+r)*(1+s)*(1+t)\n",
    "    N4=0.125*(1-r)*(1+s)*(1+t)\n",
    "    N5=0.125*(1-r)*(1-s)*(1-t)\n",
    "    N6=0.125*(1+r)*(1-s)*(1-t)\n",
    "    N7=0.125*(1+r)*(1+s)*(1-t)\n",
    "    N8=0.125*(1-r)*(1+s)*(1-t)\n",
    "    N_matrix = Matrix([[N1],[N2],[N3],[N4],[N5],[N6],[N7],[N8]])\n",
    "\n",
    "    #Xphysical=Matrix([0,1,1,0,0,1,1,0])\n",
    "    #Yphysical=Matrix([0,0,1,1,0,0,1,1])\n",
    "    #Zphysical=Matrix([1,1,1,1,0,0,0,0])\n",
    "\n",
    "    X=N_matrix.dot(Xphysical)\n",
    "    Y=N_matrix.dot(Yphysical)\n",
    "    Z=N_matrix.dot(Zphysical)\n",
    "\n",
    "    #print('X=',X)\n",
    "    #print('Y=',Y)\n",
    "    #print('Z=',Z)\n",
    "    dXdr=diff(X,r)\n",
    "    dYdr=diff(Y,r)\n",
    "    dZdr=diff(Z,r)\n",
    "\n",
    "    dXds=diff(X,s)\n",
    "    dYds=diff(Y,s)\n",
    "    dZds=diff(Z,s)\n",
    "\n",
    "    dXdt=diff(X,t)\n",
    "    dYdt=diff(Y,t)\n",
    "    dZdt=diff(Z,t)\n",
    "    #----------------------\n",
    "    dXdr=simplify(dXdr)\n",
    "    dYdr=simplify(dYdr)\n",
    "    dZdr=simplify(dZdr)\n",
    "\n",
    "    dXds=simplify(dXds)\n",
    "    dYds=simplify(dYds)\n",
    "    dZds=simplify(dZds)\n",
    "\n",
    "    dXdt=simplify(dXdt)\n",
    "    dYdt=simplify(dYdt)\n",
    "    dZdt=simplify(dZdt)\n",
    "\n",
    "        #J=Matrix([dXdr,dYdr,dZdr],[dXds,dYds,dZds],[dXdt,dYdt,dZdt])\n",
    "    J=Matrix([[dXdr,dYdr,dZdr],[dXds,dYds,dZds],[dXdt,dYdt,dZdt]])\n",
    "    #print(J)\n",
    "    #print(J.shape)\n",
    "    #print(J[1,0])\n",
    "    #simplify(J)\n",
    "    J_Inversed=J**-1\n",
    "    #print(J_Inversed)\n",
    "    #print(J*J_Inversed)\n",
    "#++++++++++++++++++++++++++++++++++++++++++++++++++++++++++++++++++++++++++++++++++++++++++++++++++++++++++++++++++++++++++    \n",
    "    N=Matrix([[N1,  0,   0,     N2,  0,   0,      N3,  0,   0,     N4,  0,  0,    N5,   0,   0,   N6,   0,  0,  N7,  0,  0,   N8,   0,    0],\n",
    "              [0,   N1,  0,     0,   N2,  0,      0,  N3,   0,     0,  N4,  0,     0,  N5,   0,    0,  N6,  0,   0, N7,  0,    0,   N8,   0],\n",
    "              [0,   0,   N1,    0,   0,   N2,     0,   0,   N3,    0,   0,  N4,    0,   0,   N5,   0,   0,  N6,  0,  0, N7,    0,    0,  N8]])\n",
    "\n",
    "  \n",
    "\n",
    "\n",
    "\n",
    "    #print(strain_3D)\n",
    "\n",
    "#+++++++++++++++++++++++++++++++++++++++++++++++++++++++++++++++++++++++++++++++++++++++++++++++++++++++++++++++++++++++++++++++++++++++       \n",
    "    Jdet=J.det()\n",
    "    #print(\"Jdet=\",Jdet)\n",
    "    \n",
    "    Ntranspose=N.T\n",
    "    \n",
    "    M = Density * Ntranspose * N * Jdet    \n",
    "\n",
    "    result1=integrate(M, (r, -1, 1))\n",
    "    result2=integrate(result1, (s, -1, 1))\n",
    "    result3=integrate(result2, (t, -1, 1))\n",
    "    M=result3\n",
    "    #print(M)   \n",
    "    \n",
    "    \n",
    "    \n",
    "    return M\n",
    "#--Mass Function----Mass Function----Mass Function----Mass Function----Mass Function----Mass Function----Mass Function----Mass Function---"
   ]
  },
  {
   "cell_type": "code",
   "execution_count": null,
   "metadata": {
    "collapsed": true
   },
   "outputs": [],
   "source": []
  },
  {
   "cell_type": "markdown",
   "metadata": {},
   "source": [
    "##### The Function Lumped Mass works to transfer the original mass matrix into  a diagonal matrix called \" Lumped Mass\""
   ]
  },
  {
   "cell_type": "code",
   "execution_count": 33,
   "metadata": {
    "collapsed": true
   },
   "outputs": [],
   "source": [
    "def LumpedMass(M):\n",
    "    (m,n)=M.shape\n",
    "    LM=zeros(m,n)\n",
    "\n",
    "    for i in range(m):\n",
    "        summation=0   \n",
    "        for j in range(n):\n",
    "            summation= summation+M[i,j]    \n",
    "        LM[i,i]=summation\n",
    "\n",
    "    return LM"
   ]
  },
  {
   "cell_type": "code",
   "execution_count": null,
   "metadata": {
    "collapsed": true
   },
   "outputs": [],
   "source": []
  },
  {
   "cell_type": "markdown",
   "metadata": {},
   "source": [
    "##### The Function\"GetTotalMass\" works calculate the mass of the structure. since one node has three degree of freedom the,  each degree of freedom own a single mass which equal to mass of the node,  the structure mass is three time of the theorical mass."
   ]
  },
  {
   "cell_type": "code",
   "execution_count": 34,
   "metadata": {
    "collapsed": true
   },
   "outputs": [],
   "source": [
    "def GetTotalMass( Matrix ):\n",
    "    (m,n)=Matrix.shape\n",
    "    TotalMass=0;\n",
    "    for i in range(m):\n",
    "        for j in range(n):\n",
    "            TotalMass=TotalMass+Matrix[i,j]\n",
    "\n",
    "    return TotalMass"
   ]
  },
  {
   "cell_type": "code",
   "execution_count": null,
   "metadata": {
    "collapsed": true
   },
   "outputs": [],
   "source": []
  },
  {
   "cell_type": "code",
   "execution_count": 35,
   "metadata": {
    "collapsed": true
   },
   "outputs": [],
   "source": [
    "#--Assembel Function----Assembel Function----Assembel Function----Assembel Function----Assembel Function----Assembel Function--\n",
    "def NewWayToAss(K1,S):    \n",
    "        \n",
    "    KK1=zeros(36,36)\n",
    "    \n",
    "    for i in range(24):    \n",
    "    \n",
    "       for j in range(24) :\n",
    "            a=S[i]\n",
    "            b=S[j]\n",
    "            c=K1[i,j]    \n",
    "            KK1[a,b]=c\n",
    "        \n",
    "    return KK1     \n",
    "\n",
    "#--Assembel Function----Assembel Function----Assembel Function----Assembel Function----Assembel Function----Assembel Function--"
   ]
  },
  {
   "cell_type": "code",
   "execution_count": null,
   "metadata": {
    "collapsed": true
   },
   "outputs": [],
   "source": []
  },
  {
   "cell_type": "markdown",
   "metadata": {},
   "source": [
    "##### The programm below is use the physical coordinate  matrix \"gcoord\", connectivity matrix \"nodes\" ,  Density , the  to generate a gobal Mass  Matrix by calling the   \"GetMassMatrix3D\"  Function , the \"NewWayToAss\" Function and the LumpedMass Matrix."
   ]
  },
  {
   "cell_type": "code",
   "execution_count": 36,
   "metadata": {
    "collapsed": false
   },
   "outputs": [],
   "source": [
    "gcoord=Matrix([[1,     2,     1,     0],\n",
    "               [2,     2,     1,     1],\n",
    "               [3,     1,     1,     1],\n",
    "               [4,     0,     1,     1],\n",
    "               [5,     0,     1,     0],\n",
    "               [6,     1,     1,     0],\n",
    "               [7,     2,     0,     0],\n",
    "               [8,     2,     0,     1],\n",
    "               [9,     1,     0,     1],\n",
    "               [10,     1,     0,     0],\n",
    "               [11,     0,     0,     1],\n",
    "               [12,     0,     0,     0]])\n",
    "nodes=Matrix([[7,     8,     9,    10,     1,     2,     3,     6],\n",
    "              [10,    9,    11,    12,     6,     3,     4,     5]])\n",
    "#+++++++++++++++++++++++++++++++++++++++++++++++++++++++++++++++++++++++++++++++++++++++++++++++++++++++++++=\n",
    "nel=2 # number of elements\n",
    "nnel=8  # number of nodes per element\n",
    "NodesToThreeD=zeros(nel,24)\n",
    "nd=zeros(1,8)\n",
    "#====================================\n",
    "\n",
    "g=12*3   #g=the number of node is 12 ,so the total degree of freedom is 12 * 3\n",
    "sum=zeros(g,g)\n",
    "#for  i=1:nel\n",
    "for i in range(nel):\n",
    "    #print(\"i=\",i)\n",
    "    \n",
    "    xcoord=zeros(1,8)\n",
    "    ycoord=zeros(1,8)\n",
    "    zcoord=zeros(1,8)\n",
    "    \n",
    "    for j in range(nnel):\n",
    "        #print(\"j=\",j)\n",
    "        \n",
    "        nd=nodes[i,j]\n",
    "        \n",
    "        #print(\"nde=\",nd)\n",
    "        \n",
    "        \n",
    "        \n",
    "        nd=nd-1\n",
    "        xcoord[j]=gcoord[nd,1]      \n",
    "        ycoord[j]=gcoord[nd,2]        \n",
    "        zcoord[j]=gcoord[nd,3]\n",
    "        \n",
    "        \n",
    "        #print(\"xcoord[\",j,\"}=\",xcoord[j])\n",
    "        #print(\"ycoord[\",j,\"}=\",ycoord[j])\n",
    "        #print(\"zcoord[\",j,\"}=\",zcoord[j])\n",
    "        \n",
    "    #print(\"xcoord=\",xcoord)\n",
    "    #print(\"ycoord=\",ycoord)\n",
    "    #print(\"zcoord=\",zcoord)\n",
    "  \n",
    "    X1=xcoord[0]  \n",
    "    Y1=ycoord[0]  \n",
    "    Z1=zcoord[0] \n",
    "    \n",
    "    X2=xcoord[1]  \n",
    "    Y2=ycoord[1]  \n",
    "    Z2=zcoord[1]\n",
    "    \n",
    "    X3=xcoord[2]  \n",
    "    Y3=ycoord[2]  \n",
    "    Z3=zcoord[2] \n",
    "    \n",
    "    X4=xcoord[3]  \n",
    "    Y4=ycoord[3]  \n",
    "    Z4=zcoord[3]\n",
    "    \n",
    "    X5=xcoord[4]  \n",
    "    Y5=ycoord[4]  \n",
    "    Z5=zcoord[4]\n",
    "    \n",
    "    X6=xcoord[5]  \n",
    "    Y6=ycoord[5]  \n",
    "    Z6=zcoord[5] \n",
    "    \n",
    "    X7=xcoord[6]  \n",
    "    Y7=ycoord[6]    \n",
    "    Z7=zcoord[6] \n",
    "    \n",
    "    X8=xcoord[7]  \n",
    "    Y8=ycoord[7]  \n",
    "    Z8=zcoord[7]\n",
    "    Young=10000\n",
    "    P=0.45\n",
    "    \n",
    "    #print(\"X1=\",X1)\n",
    "    #print(\"Y1=\",Y1)\n",
    "    #print(\"Z1=\",Z1)\n",
    "    \n",
    "    #print(\"X2=\",X2)\n",
    "    #print(\"Y2=\",Y2)\n",
    "    #print(\"Z2=\",Z2)\n",
    "    \n",
    "    #print(\"X3=\",X3)\n",
    "    #print(\"Y3=\",Y3)\n",
    "    #print(\"Z3=\",Z3)\n",
    "    \n",
    "    #print(\"X4=\",X4)\n",
    "    #print(\"Y4=\",Y4)\n",
    "    #print(\"Z4=\",Z4)\n",
    "    \n",
    "    #print(\"X5=\",X5)\n",
    "    #print(\"Y5=\",Y5)\n",
    "    #print(\"Z5=\",Z5)\n",
    "    \n",
    "    #print(\"X6=\",X6)\n",
    "    #print(\"Y6=\",Y6)\n",
    "    #print(\"Z6=\",Z6)\n",
    "    \n",
    "    #print(\"X7=\",X7)\n",
    "    #print(\"Y7=\",Y7)\n",
    "    #print(\"Z7=\",Z7)\n",
    "    \n",
    "    #print(\"X8=\",X8)\n",
    "    #print(\"Y8=\",Y8)\n",
    "    #print(\"Z8=\",Z8)\n",
    "   \n",
    "    Density=1\n",
    "   \n",
    "    M=GetMassMatrix3D(X1,Y1,Z1,  X2,Y2,Z2,  X3,Y3,Z3,  X4,Y4,Z4,  X5,Y5,Z5,  X6,Y6,Z6,  X7,Y7,Z7,  X8,Y8,Z8, Density)\n",
    "    \n",
    "    #print(\"M for i=\",i,\":\",M)\n",
    "    \n",
    "    #Connectivity Start\n",
    "    \n",
    "    for j in range(nnel):\n",
    "        a=nodes[i,j]\n",
    "        a1=3*a-2-1\n",
    "        a2=3*a-1-1\n",
    "        a3=3*a-1\n",
    "        j=(j+1)*3-2-1\n",
    "        NodesToThreeD[i,j]=a1\n",
    "        NodesToThreeD[i,j+1]=a2\n",
    "        NodesToThreeD[i,j+2]=a3     \n",
    "   \n",
    "    #print(\"NodesToThreeD for\",i,\"=\",NodesToThreeD)\n",
    " \n",
    "    S1=NodesToThreeD[i,:]   \n",
    "     \n",
    "    #print('one K1 !!!')\n",
    "    \n",
    "    M1=NewWayToAss(M,S1)\n",
    "    #--------------------------------------------------------------\n",
    "    #print(\"K1 for i=\",i,\":\",M1)\n",
    "    \n",
    "    #--------------------------------------------------------------  \n",
    "    \n",
    "    M1=LumpedMass(M1)\n",
    "    \n",
    "    #print(M1)\n",
    "    \n",
    "    #print(\"Dimension of M1 when i=\",i ,\":\", M1.shape)\n",
    "    #print(\"Determination of M1 when i=\",i ,\":\", M1.det())\n",
    "    \n",
    "    sum=sum+M1 \n",
    "     \n",
    "    \n",
    "\n",
    "\n",
    "Msum=sum\n",
    "\n",
    "\n",
    "\n",
    "\n",
    "#print(\"Msum=\",Msum)\n",
    "LM=LumpedMass(Msum)\n",
    "#print(\"LM=\",LM)\n",
    "totalmass=GetTotalMass(Msum)\n",
    "#print(\"totalmass=\",totalmass)\n",
    "Msum=LM\n",
    "#print(\"Msum(LM)=\",Msum)"
   ]
  },
  {
   "cell_type": "code",
   "execution_count": null,
   "metadata": {
    "collapsed": true
   },
   "outputs": [],
   "source": []
  },
  {
   "cell_type": "code",
   "execution_count": null,
   "metadata": {
    "collapsed": true
   },
   "outputs": [],
   "source": []
  },
  {
   "cell_type": "code",
   "execution_count": 37,
   "metadata": {
    "collapsed": false
   },
   "outputs": [
    {
     "name": "stdout",
     "output_type": "stream",
     "text": [
      "The Up is for the Mass matrix\n"
     ]
    }
   ],
   "source": [
    "print(\"The Up is for the Mass matrix\")"
   ]
  },
  {
   "cell_type": "code",
   "execution_count": null,
   "metadata": {
    "collapsed": true
   },
   "outputs": [],
   "source": []
  },
  {
   "cell_type": "code",
   "execution_count": 38,
   "metadata": {
    "collapsed": false
   },
   "outputs": [
    {
     "name": "stdout",
     "output_type": "stream",
     "text": [
      "The Below is for the Damping matrix\n"
     ]
    }
   ],
   "source": [
    "print(\"The Below is for the Damping matrix\")"
   ]
  },
  {
   "cell_type": "markdown",
   "metadata": {},
   "source": [
    "##### the program below use \"Rayleight Damping Cofficient\" the damping matrix."
   ]
  },
  {
   "cell_type": "code",
   "execution_count": 39,
   "metadata": {
    "collapsed": true
   },
   "outputs": [],
   "source": [
    "Csum=zeros(36,36)\n",
    "Csum=0.015*Ksum+0.001*Msum"
   ]
  },
  {
   "cell_type": "markdown",
   "metadata": {
    "collapsed": true
   },
   "source": []
  },
  {
   "cell_type": "code",
   "execution_count": null,
   "metadata": {
    "collapsed": true
   },
   "outputs": [],
   "source": []
  },
  {
   "cell_type": "code",
   "execution_count": 40,
   "metadata": {
    "collapsed": false
   },
   "outputs": [],
   "source": [
    "#print(\"Cum=\",Csum)"
   ]
  },
  {
   "cell_type": "code",
   "execution_count": null,
   "metadata": {
    "collapsed": true
   },
   "outputs": [],
   "source": []
  },
  {
   "cell_type": "code",
   "execution_count": 41,
   "metadata": {
    "collapsed": false
   },
   "outputs": [
    {
     "name": "stdout",
     "output_type": "stream",
     "text": [
      "The Up is for the Damping matrix\n"
     ]
    }
   ],
   "source": [
    "print(\"The Up is for the Damping matrix\")"
   ]
  },
  {
   "cell_type": "code",
   "execution_count": null,
   "metadata": {
    "collapsed": true
   },
   "outputs": [],
   "source": []
  },
  {
   "cell_type": "markdown",
   "metadata": {},
   "source": [
    "##### The program below wroks to progcess the Mass Matrix, Stiffness Matrix and Damping Matrix by using the constrained node information"
   ]
  },
  {
   "cell_type": "code",
   "execution_count": 42,
   "metadata": {
    "collapsed": true
   },
   "outputs": [],
   "source": [
    "def  ProcesTheMatrix(Inputmatrix,DisplacementInput):\n",
    "    \n",
    "    K=Inputmatrix\n",
    "    for i in range(36):\n",
    "        #print(i)\n",
    "        if DisplacementInput[i]==0:    \n",
    "            \n",
    "            for j in range(36):\n",
    "                          \n",
    "                K[i,j] = 0\n",
    "                K[j,i] = 0         \n",
    "            K[i,i]=1         \n",
    "     \n",
    "\n",
    "    MatrixCanBeUsed= K\n",
    "\n",
    "    return  MatrixCanBeUsed"
   ]
  },
  {
   "cell_type": "code",
   "execution_count": null,
   "metadata": {
    "collapsed": true
   },
   "outputs": [],
   "source": []
  },
  {
   "cell_type": "markdown",
   "metadata": {},
   "source": [
    "##### The program works to generate the Processed the Mass Matrix, Stiffness Matrix, and Damping Mastirx by calling \"ProcesTheMatrix\"."
   ]
  },
  {
   "cell_type": "code",
   "execution_count": 43,
   "metadata": {
    "collapsed": false
   },
   "outputs": [
    {
     "name": "stdout",
     "output_type": "stream",
     "text": [
      "(1, 36)\n",
      "Matrix([[0, 0, 0, 0, 0, 0, 1, 1, 1, 1, 1, 1, 1, 1, 1, 1, 1, 1, 0, 0, 0, 0, 0, 0, 1, 1, 1, 1, 1, 1, 1, 1, 1, 1, 1, 1]])\n",
      "(36, 36)\n",
      "(36, 36)\n",
      "(36, 36)\n"
     ]
    }
   ],
   "source": [
    "NumOfNodes=12\n",
    "NumOfDegreeOfFreedom=3*NumOfNodes\n",
    "#DisplacementInput=vpa(ones(1,NumOfDegreeOfFreedom));\n",
    "DisplacementInput=ones(1,NumOfDegreeOfFreedom)\n",
    "#-------------------------------------------------------------------------\n",
    "#NumberOfNodesBeingConstrained=[1 2 3  4 5 6    19 20 21   22 23 24];\n",
    "NumberOfNodesBeingConstrained=Matrix([1, 2, 3,  4, 5, 6,    19, 20, 21,   22, 23, 24]) \n",
    "#-------------------------------------------------------------------------\n",
    "#large=length(NumberOfNodesBeingConstrained);\n",
    "large=len(NumberOfNodesBeingConstrained)\n",
    "\n",
    "for j in range(large):\n",
    "    NumberOfNodesBeingConstrained[j]=NumberOfNodesBeingConstrained[j]-1\n",
    "\n",
    "\n",
    "#for i=1:large \n",
    "for i in range(large):\n",
    "     #DisplacementInput(NumberOfNodesBeingConstrained(i))=0;\n",
    "        DisplacementInput[NumberOfNodesBeingConstrained[i]]=0\n",
    "#end\n",
    "#DisplacementInput;\n",
    "#DisplacementInput=double(DisplacementInput)\n",
    "#==================================================================\n",
    "KsumOk=ProcesTheMatrix(Ksum,DisplacementInput)\n",
    "MsumOk=ProcesTheMatrix(Msum,DisplacementInput)\n",
    "CsumOk=ProcesTheMatrix(Csum,DisplacementInput)\n",
    "print(DisplacementInput.shape)\n",
    "print(DisplacementInput)\n",
    "print(Ksum.shape)\n",
    "print(Msum.shape)\n",
    "print(Csum.shape)"
   ]
  },
  {
   "cell_type": "code",
   "execution_count": null,
   "metadata": {
    "collapsed": true
   },
   "outputs": [],
   "source": []
  },
  {
   "cell_type": "code",
   "execution_count": 44,
   "metadata": {
    "collapsed": false
   },
   "outputs": [],
   "source": [
    "#print(\"MsumOk=\",MsumOk)"
   ]
  },
  {
   "cell_type": "code",
   "execution_count": null,
   "metadata": {
    "collapsed": true
   },
   "outputs": [],
   "source": []
  },
  {
   "cell_type": "code",
   "execution_count": 45,
   "metadata": {
    "collapsed": false
   },
   "outputs": [],
   "source": [
    "#print(\"CsumOk=\",CsumOk)"
   ]
  },
  {
   "cell_type": "code",
   "execution_count": null,
   "metadata": {
    "collapsed": true
   },
   "outputs": [],
   "source": []
  },
  {
   "cell_type": "code",
   "execution_count": 46,
   "metadata": {
    "collapsed": false
   },
   "outputs": [],
   "source": [
    "#print(\"KsumOk=\",KsumOk)"
   ]
  },
  {
   "cell_type": "code",
   "execution_count": null,
   "metadata": {
    "collapsed": true
   },
   "outputs": [],
   "source": []
  },
  {
   "cell_type": "markdown",
   "metadata": {
    "collapsed": true
   },
   "source": [
    "### 4 The Numerical Solution"
   ]
  },
  {
   "cell_type": "markdown",
   "metadata": {},
   "source": [
    "I used  the Eurler Method to Solve the dyanmic equation:\n",
    "\\begin{equation}\n",
    "M  \\ddot{U}(t)+C \\dot{U}(t)+K U(t)= F(t)  \n",
    "\\end{equation}"
   ]
  },
  {
   "cell_type": "markdown",
   "metadata": {},
   "source": [
    "Specifically, to use the numerical method, the dynamic equation was processed in the following way:\n",
    "\n",
    "\\begin{equation}\n",
    "    \\dot{U}(t)=V(t)\\\\\n",
    "    \\dot{V}(t)=M^{-1}(F-KU(t)-CV(t))\n",
    "\\end{equation}   \n",
    "\n",
    "\n",
    "The matrix form:\n",
    "\\begin{align}\n",
    "\\frac{\\partial }{\\partial t}&\n",
    "\\begin{pmatrix} U \\\\V \\end{pmatrix}\n",
    "= \\begin{pmatrix} \\ 0 \\ \\quad I \\\\ -M^{-1}K\\ \\quad-M^{-1}{C}   \\end{pmatrix}&\\begin{pmatrix} U \\\\V \\end{pmatrix}&\n",
    "+\\begin{pmatrix} \\ 0  \\\\ M^{-1}F\\   \\end{pmatrix}\n",
    "\\end{align}"
   ]
  },
  {
   "cell_type": "code",
   "execution_count": 47,
   "metadata": {
    "collapsed": false
   },
   "outputs": [
    {
     "name": "stdout",
     "output_type": "stream",
     "text": [
      "Euler Method Below\n"
     ]
    }
   ],
   "source": [
    "print(\"Euler Method Below\") "
   ]
  },
  {
   "cell_type": "markdown",
   "metadata": {
    "collapsed": true
   },
   "source": [
    "##### The following program is to put the constrain condition on the degree of freedom on the node."
   ]
  },
  {
   "cell_type": "code",
   "execution_count": 48,
   "metadata": {
    "collapsed": true
   },
   "outputs": [],
   "source": [
    "M=MsumOk\n",
    "C=CsumOk\n",
    "K=KsumOk\n",
    "\n",
    "\n",
    "\n",
    "#+++++++++++++++++++++++++++++++++++++++++++++++\n",
    "#dt=0.0000001;\n",
    "#N=4000000\n",
    "\n",
    "DOF=36\n",
    "F=zeros(DOF,1) \n",
    "\n",
    "F[35]=1\n",
    "F[32]=1\n",
    "F[11]=1\n",
    "F[14]=1"
   ]
  },
  {
   "cell_type": "code",
   "execution_count": 49,
   "metadata": {
    "collapsed": false
   },
   "outputs": [
    {
     "name": "stdout",
     "output_type": "stream",
     "text": [
      "Matrix([[1, 0, 0, 0, 0, 0, 0, 0, 0, 0, 0, 0, 0, 0, 0, 0, 0, 0, 0, 0, 0, 0, 0, 0, 0, 0, 0, 0, 0, 0, 0, 0, 0, 0, 0, 0], [0, 1, 0, 0, 0, 0, 0, 0, 0, 0, 0, 0, 0, 0, 0, 0, 0, 0, 0, 0, 0, 0, 0, 0, 0, 0, 0, 0, 0, 0, 0, 0, 0, 0, 0, 0], [0, 0, 1, 0, 0, 0, 0, 0, 0, 0, 0, 0, 0, 0, 0, 0, 0, 0, 0, 0, 0, 0, 0, 0, 0, 0, 0, 0, 0, 0, 0, 0, 0, 0, 0, 0], [0, 0, 0, 1, 0, 0, 0, 0, 0, 0, 0, 0, 0, 0, 0, 0, 0, 0, 0, 0, 0, 0, 0, 0, 0, 0, 0, 0, 0, 0, 0, 0, 0, 0, 0, 0], [0, 0, 0, 0, 1, 0, 0, 0, 0, 0, 0, 0, 0, 0, 0, 0, 0, 0, 0, 0, 0, 0, 0, 0, 0, 0, 0, 0, 0, 0, 0, 0, 0, 0, 0, 0], [0, 0, 0, 0, 0, 1, 0, 0, 0, 0, 0, 0, 0, 0, 0, 0, 0, 0, 0, 0, 0, 0, 0, 0, 0, 0, 0, 0, 0, 0, 0, 0, 0, 0, 0, 0], [0, 0, 0, 0, 0, 0, 9961.68582375479, 0, 0, -3831.41762452108, 2298.85057471264, 2298.85057471264, -2203.06513409962, 1149.42528735632, -2873.56321839081, 3831.41762452107, 0, 0, 0, 0, 0, 0, 0, 0, 3831.41762452107, 0, 0, 1340.99616858238, 0, 0, -2203.06513409962, -2873.56321839081, 1149.42528735632, -1245.21072796935, -1436.78160919540, -1436.78160919540], [0, 0, 0, 0, 0, 0, 0, 9961.68582375479, 5747.12643678161, -2298.85057471264, 1915.70881226054, 1436.78160919540, -1149.42528735632, 670.498084291188, -1149.42528735632, 0, 3831.41762452108, -4597.70114942529, 0, 0, 0, 0, 0, 0, 0, -7662.83524904215, 4597.70114942529, 0, -4406.13026819924, -5747.12643678161, -2873.56321839081, -2203.06513409962, 1149.42528735632, -1436.78160919540, -1245.21072796935, -1436.78160919540], [0, 0, 0, 0, 0, 0, 0, 5747.12643678161, 9961.68582375479, -2298.85057471264, 1436.78160919540, 1915.70881226054, -2873.56321839081, 1149.42528735632, -2203.06513409962, 0, 4597.70114942529, -7662.83524904215, 0, 0, 0, 0, 0, 0, 0, -4597.70114942529, 3831.41762452107, 0, -5747.12643678161, -4406.13026819923, -1149.42528735632, -1149.42528735632, 670.498084291188, -1436.78160919540, -1436.78160919540, -1245.21072796935], [0, 0, 0, 0, 0, 0, -3831.41762452108, -2298.85057471264, -2298.85057471264, 4980.84291187740, -2873.56321839081, -2873.56321839081, 1915.70881226054, -1436.78160919540, 2298.85057471264, -2203.06513409962, -1149.42528735632, 2873.56321839081, 0, 0, 0, 0, 0, 0, -2203.06513409962, 2873.56321839081, -1149.42528735632, -1245.21072796935, 1436.78160919540, 1436.78160919540, 1915.70881226054, 2298.85057471264, -1436.78160919540, 670.498084291188, 1149.42528735632, 1149.42528735632], [0, 0, 0, 0, 0, 0, 2298.85057471264, 1915.70881226054, 1436.78160919540, -2873.56321839081, 4980.84291187740, 2873.56321839081, -1436.78160919540, 1915.70881226054, -2298.85057471264, 1149.42528735632, 670.498084291188, -1149.42528735632, 0, 0, 0, 0, 0, 0, 2873.56321839081, -2203.06513409962, 1149.42528735632, 1436.78160919540, -1245.21072796935, -1436.78160919540, -2298.85057471264, -3831.41762452107, 2298.85057471264, -1149.42528735632, -2203.06513409962, -2873.56321839081], [0, 0, 0, 0, 0, 0, 2298.85057471264, 1436.78160919540, 1915.70881226054, -2873.56321839081, 2873.56321839081, 4980.84291187740, -2298.85057471264, 2298.85057471264, -3831.41762452107, 2873.56321839081, 1149.42528735632, -2203.06513409962, 0, 0, 0, 0, 0, 0, 1149.42528735632, -1149.42528735632, 670.498084291188, 1436.78160919540, -1436.78160919540, -1245.21072796935, -1436.78160919540, -2298.85057471264, 1915.70881226054, -1149.42528735632, -2873.56321839081, -2203.06513409962], [0, 0, 0, 0, 0, 0, -2203.06513409962, -1149.42528735632, -2873.56321839081, 1915.70881226054, -1436.78160919540, -2298.85057471264, 4980.84291187740, -2873.56321839081, 2873.56321839081, -3831.41762452108, -2298.85057471264, 2298.85057471264, 0, 0, 0, 0, 0, 0, -1245.21072796935, 1436.78160919540, -1436.78160919540, -2203.06513409962, 2873.56321839081, 1149.42528735632, 670.498084291188, 1149.42528735632, -1149.42528735632, 1915.70881226054, 2298.85057471264, 1436.78160919540], [0, 0, 0, 0, 0, 0, 1149.42528735632, 670.498084291188, 1149.42528735632, -1436.78160919540, 1915.70881226054, 2298.85057471264, -2873.56321839081, 4980.84291187740, -2873.56321839081, 2298.85057471264, 1915.70881226054, -1436.78160919540, 0, 0, 0, 0, 0, 0, 1436.78160919540, -1245.21072796935, 1436.78160919540, 2873.56321839081, -2203.06513409962, -1149.42528735632, -1149.42528735632, -2203.06513409962, 2873.56321839081, -2298.85057471264, -3831.41762452107, -2298.85057471264], [0, 0, 0, 0, 0, 0, -2873.56321839081, -1149.42528735632, -2203.06513409962, 2298.85057471264, -2298.85057471264, -3831.41762452107, 2873.56321839081, -2873.56321839081, 4980.84291187740, -2298.85057471264, -1436.78160919540, 1915.70881226054, 0, 0, 0, 0, 0, 0, -1436.78160919540, 1436.78160919540, -1245.21072796935, -1149.42528735632, 1149.42528735632, 670.498084291188, 1149.42528735632, 2873.56321839081, -2203.06513409962, 1436.78160919540, 2298.85057471264, 1915.70881226054], [0, 0, 0, 0, 0, 0, 3831.41762452107, 0, 0, -2203.06513409962, 1149.42528735632, 2873.56321839081, -3831.41762452108, 2298.85057471264, -2298.85057471264, 9961.68582375479, 0, 0, 0, 0, 0, 0, 0, 0, 1340.99616858238, 0, 0, 3831.41762452107, 0, 0, -1245.21072796935, -1436.78160919540, 1436.78160919540, -2203.06513409962, -2873.56321839081, -1149.42528735632], [0, 0, 0, 0, 0, 0, 0, 3831.41762452108, 4597.70114942529, -1149.42528735632, 670.498084291188, 1149.42528735632, -2298.85057471264, 1915.70881226054, -1436.78160919540, 0, 9961.68582375479, -5747.12643678161, 0, 0, 0, 0, 0, 0, 0, -4406.13026819924, 5747.12643678161, 0, -7662.83524904215, -4597.70114942529, -1436.78160919540, -1245.21072796935, 1436.78160919540, -2873.56321839081, -2203.06513409962, -1149.42528735632], [0, 0, 0, 0, 0, 0, 0, -4597.70114942529, -7662.83524904215, 2873.56321839081, -1149.42528735632, -2203.06513409962, 2298.85057471264, -1436.78160919540, 1915.70881226054, 0, -5747.12643678161, 9961.68582375479, 0, 0, 0, 0, 0, 0, 0, 5747.12643678161, -4406.13026819923, 0, 4597.70114942529, 3831.41762452107, 1436.78160919540, 1436.78160919540, -1245.21072796935, 1149.42528735632, 1149.42528735632, 670.498084291188], [0, 0, 0, 0, 0, 0, 0, 0, 0, 0, 0, 0, 0, 0, 0, 0, 0, 0, 1, 0, 0, 0, 0, 0, 0, 0, 0, 0, 0, 0, 0, 0, 0, 0, 0, 0], [0, 0, 0, 0, 0, 0, 0, 0, 0, 0, 0, 0, 0, 0, 0, 0, 0, 0, 0, 1, 0, 0, 0, 0, 0, 0, 0, 0, 0, 0, 0, 0, 0, 0, 0, 0], [0, 0, 0, 0, 0, 0, 0, 0, 0, 0, 0, 0, 0, 0, 0, 0, 0, 0, 0, 0, 1, 0, 0, 0, 0, 0, 0, 0, 0, 0, 0, 0, 0, 0, 0, 0], [0, 0, 0, 0, 0, 0, 0, 0, 0, 0, 0, 0, 0, 0, 0, 0, 0, 0, 0, 0, 0, 1, 0, 0, 0, 0, 0, 0, 0, 0, 0, 0, 0, 0, 0, 0], [0, 0, 0, 0, 0, 0, 0, 0, 0, 0, 0, 0, 0, 0, 0, 0, 0, 0, 0, 0, 0, 0, 1, 0, 0, 0, 0, 0, 0, 0, 0, 0, 0, 0, 0, 0], [0, 0, 0, 0, 0, 0, 0, 0, 0, 0, 0, 0, 0, 0, 0, 0, 0, 0, 0, 0, 0, 0, 0, 1, 0, 0, 0, 0, 0, 0, 0, 0, 0, 0, 0, 0], [0, 0, 0, 0, 0, 0, 3831.41762452107, 0, 0, -2203.06513409962, 2873.56321839081, 1149.42528735632, -1245.21072796935, 1436.78160919540, -1436.78160919540, 1340.99616858238, 0, 0, 0, 0, 0, 0, 0, 0, 9961.68582375479, 0, 0, 3831.41762452107, 0, 0, -3831.41762452108, -2298.85057471264, 2298.85057471264, -2203.06513409962, -1149.42528735632, -2873.56321839081], [0, 0, 0, 0, 0, 0, 0, -7662.83524904215, -4597.70114942529, 2873.56321839081, -2203.06513409962, -1149.42528735632, 1436.78160919540, -1245.21072796935, 1436.78160919540, 0, -4406.13026819924, 5747.12643678161, 0, 0, 0, 0, 0, 0, 0, 9961.68582375479, -5747.12643678161, 0, 3831.41762452108, 4597.70114942529, 2298.85057471264, 1915.70881226054, -1436.78160919540, 1149.42528735632, 670.498084291188, 1149.42528735632], [0, 0, 0, 0, 0, 0, 0, 4597.70114942529, 3831.41762452107, -1149.42528735632, 1149.42528735632, 670.498084291188, -1436.78160919540, 1436.78160919540, -1245.21072796935, 0, 5747.12643678161, -4406.13026819923, 0, 0, 0, 0, 0, 0, 0, -5747.12643678161, 9961.68582375479, 0, -4597.70114942529, -7662.83524904215, -2298.85057471264, -1436.78160919540, 1915.70881226054, -2873.56321839081, -1149.42528735632, -2203.06513409962], [0, 0, 0, 0, 0, 0, 1340.99616858238, 0, 0, -1245.21072796935, 1436.78160919540, 1436.78160919540, -2203.06513409962, 2873.56321839081, -1149.42528735632, 3831.41762452107, 0, 0, 0, 0, 0, 0, 0, 0, 3831.41762452107, 0, 0, 9961.68582375479, 0, 0, -2203.06513409962, -1149.42528735632, 2873.56321839081, -3831.41762452108, -2298.85057471264, -2298.85057471264], [0, 0, 0, 0, 0, 0, 0, -4406.13026819924, -5747.12643678161, 1436.78160919540, -1245.21072796935, -1436.78160919540, 2873.56321839081, -2203.06513409962, 1149.42528735632, 0, -7662.83524904215, 4597.70114942529, 0, 0, 0, 0, 0, 0, 0, 3831.41762452108, -4597.70114942529, 0, 9961.68582375479, 5747.12643678161, 1149.42528735632, 670.498084291188, -1149.42528735632, 2298.85057471264, 1915.70881226054, 1436.78160919540], [0, 0, 0, 0, 0, 0, 0, -5747.12643678161, -4406.13026819923, 1436.78160919540, -1436.78160919540, -1245.21072796935, 1149.42528735632, -1149.42528735632, 670.498084291188, 0, -4597.70114942529, 3831.41762452107, 0, 0, 0, 0, 0, 0, 0, 4597.70114942529, -7662.83524904215, 0, 5747.12643678161, 9961.68582375479, 2873.56321839081, 1149.42528735632, -2203.06513409962, 2298.85057471264, 1436.78160919540, 1915.70881226054], [0, 0, 0, 0, 0, 0, -2203.06513409962, -2873.56321839081, -1149.42528735632, 1915.70881226054, -2298.85057471264, -1436.78160919540, 670.498084291188, -1149.42528735632, 1149.42528735632, -1245.21072796935, -1436.78160919540, 1436.78160919540, 0, 0, 0, 0, 0, 0, -3831.41762452108, 2298.85057471264, -2298.85057471264, -2203.06513409962, 1149.42528735632, 2873.56321839081, 4980.84291187740, 2873.56321839081, -2873.56321839081, 1915.70881226054, 1436.78160919540, 2298.85057471264], [0, 0, 0, 0, 0, 0, -2873.56321839081, -2203.06513409962, -1149.42528735632, 2298.85057471264, -3831.41762452107, -2298.85057471264, 1149.42528735632, -2203.06513409962, 2873.56321839081, -1436.78160919540, -1245.21072796935, 1436.78160919540, 0, 0, 0, 0, 0, 0, -2298.85057471264, 1915.70881226054, -1436.78160919540, -1149.42528735632, 670.498084291188, 1149.42528735632, 2873.56321839081, 4980.84291187740, -2873.56321839081, 1436.78160919540, 1915.70881226054, 2298.85057471264], [0, 0, 0, 0, 0, 0, 1149.42528735632, 1149.42528735632, 670.498084291188, -1436.78160919540, 2298.85057471264, 1915.70881226054, -1149.42528735632, 2873.56321839081, -2203.06513409962, 1436.78160919540, 1436.78160919540, -1245.21072796935, 0, 0, 0, 0, 0, 0, 2298.85057471264, -1436.78160919540, 1915.70881226054, 2873.56321839081, -1149.42528735632, -2203.06513409962, -2873.56321839081, -2873.56321839081, 4980.84291187740, -2298.85057471264, -2298.85057471264, -3831.41762452107], [0, 0, 0, 0, 0, 0, -1245.21072796935, -1436.78160919540, -1436.78160919540, 670.498084291188, -1149.42528735632, -1149.42528735632, 1915.70881226054, -2298.85057471264, 1436.78160919540, -2203.06513409962, -2873.56321839081, 1149.42528735632, 0, 0, 0, 0, 0, 0, -2203.06513409962, 1149.42528735632, -2873.56321839081, -3831.41762452108, 2298.85057471264, 2298.85057471264, 1915.70881226054, 1436.78160919540, -2298.85057471264, 4980.84291187740, 2873.56321839081, 2873.56321839081], [0, 0, 0, 0, 0, 0, -1436.78160919540, -1245.21072796935, -1436.78160919540, 1149.42528735632, -2203.06513409962, -2873.56321839081, 2298.85057471264, -3831.41762452107, 2298.85057471264, -2873.56321839081, -2203.06513409962, 1149.42528735632, 0, 0, 0, 0, 0, 0, -1149.42528735632, 670.498084291188, -1149.42528735632, -2298.85057471264, 1915.70881226054, 1436.78160919540, 1436.78160919540, 1915.70881226054, -2298.85057471264, 2873.56321839081, 4980.84291187740, 2873.56321839081], [0, 0, 0, 0, 0, 0, -1436.78160919540, -1436.78160919540, -1245.21072796935, 1149.42528735632, -2873.56321839081, -2203.06513409962, 1436.78160919540, -2298.85057471264, 1915.70881226054, -1149.42528735632, -1149.42528735632, 670.498084291188, 0, 0, 0, 0, 0, 0, -2873.56321839081, 1149.42528735632, -2203.06513409962, -2298.85057471264, 1436.78160919540, 1915.70881226054, 2298.85057471264, 2298.85057471264, -3831.41762452107, 2873.56321839081, 2873.56321839081, 4980.84291187740]])\n"
     ]
    }
   ],
   "source": [
    "print(K)"
   ]
  },
  {
   "cell_type": "code",
   "execution_count": 50,
   "metadata": {
    "collapsed": false
   },
   "outputs": [
    {
     "name": "stdout",
     "output_type": "stream",
     "text": [
      "1340.99616858238\n"
     ]
    }
   ],
   "source": [
    "print(K[24,15])"
   ]
  },
  {
   "cell_type": "code",
   "execution_count": null,
   "metadata": {
    "collapsed": true
   },
   "outputs": [],
   "source": []
  },
  {
   "cell_type": "markdown",
   "metadata": {
    "collapsed": true
   },
   "source": [
    "##### The following program is to constructe the part:"
   ]
  },
  {
   "cell_type": "markdown",
   "metadata": {},
   "source": [
    "\\begin{pmatrix} \\ 0  \\\\ M^{-1}F\\   \\end{pmatrix}"
   ]
  },
  {
   "cell_type": "code",
   "execution_count": 51,
   "metadata": {
    "collapsed": false
   },
   "outputs": [
    {
     "name": "stdout",
     "output_type": "stream",
     "text": [
      "up= Matrix([[0], [0], [0], [0], [0], [0], [0], [0], [0], [0], [0], [0], [0], [0], [0], [0], [0], [0], [0], [0], [0], [0], [0], [0], [0], [0], [0], [0], [0], [0], [0], [0], [0], [0], [0], [0]])\n",
      "down= Matrix([[0], [0], [0], [0], [0], [0], [0], [0], [0], [0], [0], [8.00000000000000], [0], [0], [8.00000000000000], [0], [0], [0], [0], [0], [0], [0], [0], [0], [0], [0], [0], [0], [0], [0], [0], [0], [8.00000000000000], [0], [0], [8.00000000000000]])\n",
      "Matrix([[0], [0], [0], [0], [0], [0], [0], [0], [0], [0], [0], [0], [0], [0], [0], [0], [0], [0], [0], [0], [0], [0], [0], [0], [0], [0], [0], [0], [0], [0], [0], [0], [0], [0], [0], [0], [0], [0], [0], [0], [0], [0], [0], [0], [0], [0], [0], [0], [0], [0], [0], [0], [0], [0], [0], [0], [0], [0], [0], [0], [0], [0], [0], [0], [0], [0], [0], [0], [0], [0], [0], [0]])\n",
      "Matrix([[0], [0], [0], [0], [0], [0], [0], [0], [0], [0], [0], [0], [0], [0], [0], [0], [0], [0], [0], [0], [0], [0], [0], [0], [0], [0], [0], [0], [0], [0], [0], [0], [0], [0], [0], [0], [0], [0], [0], [0], [0], [0], [0], [0], [0], [0], [0], [8.00000000000000], [0], [0], [8.00000000000000], [0], [0], [0], [0], [0], [0], [0], [0], [0], [0], [0], [0], [0], [0], [0], [0], [0], [8.00000000000000], [0], [0], [8.00000000000000]])\n"
     ]
    }
   ],
   "source": [
    "bup=zeros(36,1)\n",
    "bdown=(M**-1)*F\n",
    "print(\"up=\",bup)\n",
    "print(\"down=\",bdown)\n",
    "\n",
    "b=zeros(72,1)\n",
    "\n",
    "for k in range(36):\n",
    "    b[k]=bup[k]\n",
    "print(b)\n",
    "\n",
    "for kk in range(36):\n",
    "    b[kk+36]=bdown[kk]\n",
    "print(b)"
   ]
  },
  {
   "cell_type": "code",
   "execution_count": null,
   "metadata": {
    "collapsed": true
   },
   "outputs": [],
   "source": []
  },
  {
   "cell_type": "code",
   "execution_count": 52,
   "metadata": {
    "collapsed": false
   },
   "outputs": [
    {
     "name": "stdout",
     "output_type": "stream",
     "text": [
      "(72, 1)\n"
     ]
    }
   ],
   "source": [
    "print(b.shape)"
   ]
  },
  {
   "cell_type": "code",
   "execution_count": null,
   "metadata": {
    "collapsed": true
   },
   "outputs": [],
   "source": []
  },
  {
   "cell_type": "code",
   "execution_count": 53,
   "metadata": {
    "collapsed": false
   },
   "outputs": [
    {
     "name": "stdout",
     "output_type": "stream",
     "text": [
      "(36, 36)\n",
      "(36, 36)\n",
      "(36, 36)\n",
      "(36, 36)\n"
     ]
    }
   ],
   "source": [
    "aa=zeros(DOF,DOF)\n",
    "print(aa.shape)\n",
    "\n",
    "bb=eye(DOF)\n",
    "#print(bb)\n",
    "print(bb.shape)\n",
    "\n",
    "cc=-1*(M** -1)*K\n",
    "print(cc.shape)\n",
    "\n",
    "dd=-1*(M** -1)*C\n",
    "print(dd.shape)"
   ]
  },
  {
   "cell_type": "markdown",
   "metadata": {
    "collapsed": true
   },
   "source": [
    "#####  The following program is to constructe the  Matrix as following:\n",
    "\n",
    "\\begin{align}\n",
    "\\begin{pmatrix} \\ 0 \\ \\quad I \\\\ -M^{-1}K\\ \\quad-M^{-1}{C}   \\end{pmatrix}\n",
    "\\end{align}"
   ]
  },
  {
   "cell_type": "code",
   "execution_count": 54,
   "metadata": {
    "collapsed": false
   },
   "outputs": [],
   "source": [
    "a=zeros(72,72)\n",
    "\n",
    "for i in range(36):\n",
    "    for j in range(36):\n",
    "        a[i,j]=aa[i,j]\n",
    "        \n",
    "#print(\"a=\",simplify(a))\n",
    "\n",
    "for i in range(36):\n",
    "    for j in range(36):\n",
    "        a[i,j+36]=bb[i,j]\n",
    "        \n",
    "#print(\"a=\",simplify(a))\n",
    "\n",
    "for i in range(36):\n",
    "    for j in range(36):\n",
    "        a[i+36,j]=cc[i,j]\n",
    "        \n",
    "#print(\"a=\",simplify(a))\n",
    "\n",
    "\n",
    "for i in range(36):\n",
    "    for j in range(36):\n",
    "        a[i+36,j+36]=dd[i,j]\n",
    "        \n",
    "#print(\"a=\",simplify(a))"
   ]
  },
  {
   "cell_type": "code",
   "execution_count": null,
   "metadata": {
    "collapsed": true
   },
   "outputs": [],
   "source": []
  },
  {
   "cell_type": "code",
   "execution_count": null,
   "metadata": {
    "collapsed": true
   },
   "outputs": [],
   "source": []
  },
  {
   "cell_type": "code",
   "execution_count": 55,
   "metadata": {
    "collapsed": false
   },
   "outputs": [
    {
     "name": "stdout",
     "output_type": "stream",
     "text": [
      "(72, 72)\n",
      "1\n"
     ]
    }
   ],
   "source": [
    "print(a.shape)\n",
    "print(a[0,36])"
   ]
  },
  {
   "cell_type": "markdown",
   "metadata": {
    "collapsed": true
   },
   "source": [
    "##### The Following program is the interation part of the Numerical Method to do the Finite Element Simulation with Mass Matrix, Damping Matrix and Stiffness Matrix."
   ]
  },
  {
   "cell_type": "code",
   "execution_count": 56,
   "metadata": {
    "collapsed": false
   },
   "outputs": [],
   "source": [
    "dt=0.00006;\n",
    "N=12000\n",
    "\n",
    "U_V_Each=zeros(72,1)\n",
    "U_V_Total=zeros(72,N)\n",
    "\n",
    "for i in range(N):\n",
    "    #print(\"i=\",i)\n",
    "    derivative=a * U_V_Each + b\n",
    "   \n",
    "    U_V_Each=U_V_Each+dt * derivative\n",
    "    \n",
    "    U_V_Total[:,i]=U_V_Each\n",
    "    "
   ]
  },
  {
   "cell_type": "code",
   "execution_count": 57,
   "metadata": {
    "collapsed": false
   },
   "outputs": [
    {
     "name": "stdout",
     "output_type": "stream",
     "text": [
      "(72, 12000)\n",
      "(1, 12000)\n"
     ]
    }
   ],
   "source": [
    "import matplotlib.pyplot as plt\n",
    "print(U_V_Total.shape)\n",
    "\n",
    "\n",
    "sh=U_V_Total.row(11)\n",
    "#print(simplify(sh))\n",
    "print(sh.shape)\n",
    "\n"
   ]
  },
  {
   "cell_type": "code",
   "execution_count": null,
   "metadata": {
    "collapsed": true
   },
   "outputs": [],
   "source": []
  },
  {
   "cell_type": "code",
   "execution_count": 58,
   "metadata": {
    "collapsed": false
   },
   "outputs": [],
   "source": [
    "#print(\"sh=\",sh)"
   ]
  },
  {
   "cell_type": "code",
   "execution_count": null,
   "metadata": {
    "collapsed": true
   },
   "outputs": [],
   "source": []
  },
  {
   "cell_type": "code",
   "execution_count": 59,
   "metadata": {
    "collapsed": true
   },
   "outputs": [],
   "source": [
    "for i in range(399):\n",
    "    if sh[i]>sh[i+1]:\n",
    "        print(\"errot\")"
   ]
  },
  {
   "cell_type": "code",
   "execution_count": 60,
   "metadata": {
    "collapsed": false
   },
   "outputs": [
    {
     "data": {
      "image/png": "[encoded data removed]",
      "text/plain": [
       "<matplotlib.figure.Figure at 0x7fc676caa198>"
      ]
     },
     "metadata": {},
     "output_type": "display_data"
    }
   ],
   "source": [
    "pyplot.plot(sh.transpose());"
   ]
  },
  {
   "cell_type": "markdown",
   "metadata": {
    "collapsed": true
   },
   "source": [
    "##### Fromt the graph above, we can see bacuse the material has the damping properity, the displacement of the 11th degree of freedom of the structure increase gradually. And the displace seem smooth which means the damping properity of material has damped out the energy."
   ]
  },
  {
   "cell_type": "code",
   "execution_count": null,
   "metadata": {
    "collapsed": false
   },
   "outputs": [],
   "source": [
    "print(\"with out dumping\")"
   ]
  },
  {
   "cell_type": "markdown",
   "metadata": {
    "collapsed": true
   },
   "source": [
    "##### Now we drop the Damping Coefficiency of the Material Properity by time the CsumOk with 0"
   ]
  },
  {
   "cell_type": "code",
   "execution_count": null,
   "metadata": {
    "collapsed": true
   },
   "outputs": [],
   "source": [
    "M=MsumOk\n",
    "C=CsumOk*0\n",
    "K=KsumOk\n",
    "\n",
    "\n",
    "\n",
    "#+++++++++++++++++++++++++++++++++++++++++++++++\n",
    "#dt=0.0000001;\n",
    "#N=4000000\n",
    "\n",
    "DOF=36\n",
    "F=zeros(DOF,1) \n",
    "\n",
    "F[35]=1\n",
    "F[32]=1\n",
    "F[11]=1\n",
    "F[14]=1"
   ]
  },
  {
   "cell_type": "code",
   "execution_count": null,
   "metadata": {
    "collapsed": false
   },
   "outputs": [],
   "source": [
    "print(C)"
   ]
  },
  {
   "cell_type": "code",
   "execution_count": null,
   "metadata": {
    "collapsed": false
   },
   "outputs": [],
   "source": [
    "bup=zeros(36,1)\n",
    "bdown=(M**-1)*F\n",
    "print(\"up=\",bup)\n",
    "print(\"down=\",bdown)\n",
    "\n",
    "b=zeros(72,1)\n",
    "\n",
    "for k in range(36):\n",
    "    b[k]=bup[k]\n",
    "print(b)\n",
    "\n",
    "for kk in range(36):\n",
    "    b[kk+36]=bdown[kk]\n",
    "print(b)"
   ]
  },
  {
   "cell_type": "code",
   "execution_count": null,
   "metadata": {
    "collapsed": true
   },
   "outputs": [],
   "source": []
  },
  {
   "cell_type": "code",
   "execution_count": null,
   "metadata": {
    "collapsed": false
   },
   "outputs": [],
   "source": [
    "aa=zeros(DOF,DOF)\n",
    "print(aa.shape)\n",
    "\n",
    "bb=eye(DOF)\n",
    "#print(bb)\n",
    "print(bb.shape)\n",
    "\n",
    "cc=-1*(M** -1)*K\n",
    "print(cc.shape)\n",
    "\n",
    "dd=-1*(M** -1)*C\n",
    "print(dd.shape)"
   ]
  },
  {
   "cell_type": "code",
   "execution_count": null,
   "metadata": {
    "collapsed": false
   },
   "outputs": [],
   "source": [
    "print(dd)"
   ]
  },
  {
   "cell_type": "code",
   "execution_count": null,
   "metadata": {
    "collapsed": true
   },
   "outputs": [],
   "source": [
    "a=zeros(72,72)\n",
    "\n",
    "for i in range(36):\n",
    "    for j in range(36):\n",
    "        a[i,j]=aa[i,j]\n",
    "        \n",
    "#print(\"a=\",simplify(a))\n",
    "\n",
    "for i in range(36):\n",
    "    for j in range(36):\n",
    "        a[i,j+36]=bb[i,j]\n",
    "        \n",
    "#print(\"a=\",simplify(a))\n",
    "\n",
    "for i in range(36):\n",
    "    for j in range(36):\n",
    "        a[i+36,j]=cc[i,j]\n",
    "        \n",
    "#print(\"a=\",simplify(a))\n",
    "\n",
    "\n",
    "for i in range(36):\n",
    "    for j in range(36):\n",
    "        a[i+36,j+36]=dd[i,j]\n",
    "        \n",
    "#print(\"a=\",simplify(a))"
   ]
  },
  {
   "cell_type": "markdown",
   "metadata": {
    "collapsed": true
   },
   "source": [
    "##### The Following program is the interation part of the Numerical Method to do the Finite Element Simulation only with Mass Matrix and Stiffness Matrix."
   ]
  },
  {
   "cell_type": "code",
   "execution_count": null,
   "metadata": {
    "collapsed": true
   },
   "outputs": [],
   "source": [
    "dt=0.00006;\n",
    "N=12000\n",
    "\n",
    "NewU_V_Each=zeros(72,1)\n",
    "NewU_V_Total=zeros(72,N)\n",
    "\n",
    "for i in range(N):\n",
    "    #print(\"i=\",i)\n",
    "    Newderivative=a * NewU_V_Each + b\n",
    "   \n",
    "    NewU_V_Each=NewU_V_Each+dt * Newderivative\n",
    "    \n",
    "    NewU_V_Total[:,i]=NewU_V_Each"
   ]
  },
  {
   "cell_type": "code",
   "execution_count": null,
   "metadata": {
    "collapsed": true
   },
   "outputs": [],
   "source": []
  },
  {
   "cell_type": "code",
   "execution_count": null,
   "metadata": {
    "collapsed": false
   },
   "outputs": [],
   "source": [
    "import matplotlib.pyplot as plt\n",
    "print(NewU_V_Total.shape)\n",
    "\n",
    "\n",
    "ssh=NewU_V_Total.row(11)\n",
    "#print(simplify(sh))\n",
    "print(ssh.shape)"
   ]
  },
  {
   "cell_type": "code",
   "execution_count": null,
   "metadata": {
    "collapsed": false
   },
   "outputs": [],
   "source": [
    "for i in range(399):\n",
    "    if ssh[i]>ssh[i+1]:\n",
    "        print(\"errot\")"
   ]
  },
  {
   "cell_type": "code",
   "execution_count": null,
   "metadata": {
    "collapsed": false
   },
   "outputs": [],
   "source": [
    "pyplot.plot(ssh.transpose());"
   ]
  },
  {
   "cell_type": "markdown",
   "metadata": {
    "collapsed": true
   },
   "source": [
    "##### Fromt the graph above, we can see bacuse of the material without the damping properity, the displacement of the 11th degree of freedom of the structure virbrate perodically . "
   ]
  },
  {
   "cell_type": "code",
   "execution_count": null,
   "metadata": {
    "collapsed": true
   },
   "outputs": [],
   "source": []
  },
  {
   "cell_type": "code",
   "execution_count": null,
   "metadata": {
    "collapsed": true
   },
   "outputs": [],
   "source": []
  },
  {
   "cell_type": "code",
   "execution_count": null,
   "metadata": {
    "collapsed": true
   },
   "outputs": [],
   "source": []
  },
  {
   "cell_type": "code",
   "execution_count": null,
   "metadata": {
    "collapsed": true
   },
   "outputs": [],
   "source": []
  },
  {
   "cell_type": "code",
   "execution_count": null,
   "metadata": {
    "collapsed": true
   },
   "outputs": [],
   "source": []
  },
  {
   "cell_type": "code",
   "execution_count": null,
   "metadata": {
    "collapsed": true
   },
   "outputs": [],
   "source": []
  },
  {
   "cell_type": "code",
   "execution_count": null,
   "metadata": {
    "collapsed": true
   },
   "outputs": [],
   "source": []
  }
 ],
 "metadata": {
  "kernelspec": {
   "display_name": "Python 3",
   "language": "python",
   "name": "python3"
  },
  "language_info": {
   "codemirror_mode": {
    "name": "ipython",
    "version": 3
   },
   "file_extension": ".py",
   "mimetype": "text/x-python",
   "name": "python",
   "nbconvert_exporter": "python",
   "pygments_lexer": "ipython3",
   "version": "3.4.3"
  }
 },
 "nbformat": 4,
 "nbformat_minor": 0
}
