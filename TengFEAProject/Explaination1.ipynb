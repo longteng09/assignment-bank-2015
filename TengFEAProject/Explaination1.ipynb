{
 "cells": [
  {
   "cell_type": "code",
   "execution_count": null,
   "metadata": {
    "collapsed": true
   },
   "outputs": [],
   "source": []
  },
  {
   "cell_type": "code",
   "execution_count": null,
   "metadata": {
    "collapsed": true
   },
   "outputs": [],
   "source": []
  },
  {
   "cell_type": "code",
   "execution_count": null,
   "metadata": {
    "collapsed": true
   },
   "outputs": [],
   "source": []
  },
  {
   "cell_type": "code",
   "execution_count": null,
   "metadata": {
    "collapsed": true
   },
   "outputs": [],
   "source": []
  },
  {
   "cell_type": "markdown",
   "metadata": {},
   "source": [
    "The project came from a real physiacl pheonmenon. We use car very day and the damping properity of the suspension \n",
    "decide the comfort of the car. \n",
    "\n",
    "The intreasting vide(https://www.youtube.com/watch?v=EbkWaNDyFOQ) at time 3:00 show a experiment related to damping."
   ]
  },
  {
   "cell_type": "markdown",
   "metadata": {},
   "source": [
    "For the project, the Numerical Mehtod(Euler Metod) combined with the Finite Element Method were used to simulate the\n",
    "real physical pheonmenon.Specifically,the structure was modeled by Finite Element Method and the equation was solved by numerical method.\n",
    "\n",
    "The picture below is the structure modeled by Finite Element Method:\n",
    "\n",
    "![Image](./figures/glider_forces_nodrag.png)\n",
    "#### Figure 1. To simplify the model, only two elements were used"
   ]
  },
  {
   "cell_type": "markdown",
   "metadata": {},
   "source": [
    "Equation One:\n",
    "\\begin{equation}\n",
    "M  \\ddot{U}(t)+C \\dot{U}(t)+K U(t)= F(t)  --(1)\n",
    "\\end{equation}\n",
    "\n",
    "Note: The equation has damping cofficiency C and it indicate the masteirl is viscoelastic.Specifically, \"Visco\" is damping property.\n",
    "\n",
    "Phyical explaination: If we suddently seat into a car and the suspensition of the car with the properity damping cofficiency(C), we can feel the car will vibrate, the amplitude of the vibration will decrease graduatlly and finally the car will stop vibrate. That means the becuase of the damping cofficiency C, suspensition has damp out the energy. \n",
    "\n",
    "The video(https://www.youtube.com/watch?v=4dL9kFjfizY) at time  16:00  show the pheonmenon and the solution."
   ]
  },
  {
   "cell_type": "markdown",
   "metadata": {},
   "source": [
    "Equation two:\n",
    "\\begin{equation}\n",
    "M  \\ddot{U}(t)+K U(t)= F(t)  --(2)\n",
    "\\end{equation}\n",
    "\n",
    "Note: The equation do not have the damping cofficiency C and indicate the masteirl is elastic.Specifically, \"elastic\" means there is no disspation properity in structure.\n",
    "\n",
    "Phyical explaination: If we suddently seat into a car and the suspensition of the car without the properity damping cofficiency(C). Theorically, the car will not stop vibrate. That means the enery conservation.\n",
    "\n",
    "The video(https://www.youtube.com/watch?v=4dL9kFjfizY) at time  12:00  show the pheonmenon and the solution."
   ]
  },
  {
   "cell_type": "markdown",
   "metadata": {},
   "source": [
    "\n",
    "   \n",
    "    \n"
   ]
  },
  {
   "cell_type": "markdown",
   "metadata": {},
   "source": [
    "Eurler Method:\n",
    "The method is the basic method in the numerial mehotd and the specifically introduction can be found in the website(https://en.wikipedia.org/wiki/Euler_method)"
   ]
  },
  {
   "cell_type": "markdown",
   "metadata": {},
   "source": [
    "\\begin{equation}\n",
    "F_{n}=\\frac{\\partial U_{n}}{\\partial t}\n",
    "\\end{equation}\n",
    "\n",
    "\\begin{equation}\n",
    "U_{n+1}=U_{n}+dt*F_{n}\n",
    "\\end{equation}"
   ]
  },
  {
   "cell_type": "markdown",
   "metadata": {},
   "source": []
  },
  {
   "cell_type": "code",
   "execution_count": null,
   "metadata": {
    "collapsed": true
   },
   "outputs": [],
   "source": []
  },
  {
   "cell_type": "markdown",
   "metadata": {},
   "source": [
    "Simulation Result:"
   ]
  },
  {
   "cell_type": "markdown",
   "metadata": {},
   "source": [
    "The simulation for the structure with the damping is:\n",
    "    \n"
   ]
  },
  {
   "cell_type": "code",
   "execution_count": null,
   "metadata": {
    "collapsed": true
   },
   "outputs": [],
   "source": []
  },
  {
   "cell_type": "markdown",
   "metadata": {},
   "source": [
    "As we can see in the graph, the line of  simulation rsult calculatd by Numerical Method combined with Finite Element\n",
    "Method agree with the following evidence:\n",
    "\n",
    "\n",
    "First: the physical pheonment \"if we suddently seat into a car and the suspensition of the car with the \n",
    "properity damping cofficiency(C), we can feel the car will vibrate, the amplitude of the vibration will decrease \n",
    "graduatlly and finally the car will stop vibrate\".\n",
    "\n",
    "Second: the actual experiment is from the video(https://www.youtube.com/watch?v=EbkWaNDyFOQ) at \n",
    "time 3:34"
   ]
  },
  {
   "cell_type": "markdown",
   "metadata": {},
   "source": []
  },
  {
   "cell_type": "code",
   "execution_count": null,
   "metadata": {
    "collapsed": true
   },
   "outputs": [],
   "source": []
  },
  {
   "cell_type": "markdown",
   "metadata": {},
   "source": [
    "The simulation for the structure without the damping is:"
   ]
  },
  {
   "cell_type": "code",
   "execution_count": null,
   "metadata": {
    "collapsed": true
   },
   "outputs": [],
   "source": []
  },
  {
   "cell_type": "markdown",
   "metadata": {},
   "source": [
    "As we can see in the graph, the line of  simulation rsult calculatd by Numerical Method combined with Finite Element\n",
    "Method agree with the following evidence:\n",
    "\n",
    "First: the physical pheonment \"Phyical explaination: If we suddently seat into a car and the suspensition of the car without the properity damping cofficiency(C). Theorically, the car will not stop vibrate. That means the enery conservation.\".\n",
    "\n",
    "Second: the actual experiment is from the video(https://www.youtube.com/watch?v=-qRYaZP0938) "
   ]
  },
  {
   "cell_type": "code",
   "execution_count": null,
   "metadata": {
    "collapsed": true
   },
   "outputs": [],
   "source": []
  },
  {
   "cell_type": "code",
   "execution_count": null,
   "metadata": {
    "collapsed": true
   },
   "outputs": [],
   "source": []
  },
  {
   "cell_type": "code",
   "execution_count": null,
   "metadata": {
    "collapsed": true
   },
   "outputs": [],
   "source": []
  },
  {
   "cell_type": "code",
   "execution_count": null,
   "metadata": {
    "collapsed": true
   },
   "outputs": [],
   "source": []
  },
  {
   "cell_type": "code",
   "execution_count": null,
   "metadata": {
    "collapsed": true
   },
   "outputs": [],
   "source": []
  }
 ],
 "metadata": {
  "kernelspec": {
   "display_name": "Python 3",
   "language": "python",
   "name": "python3"
  },
  "language_info": {
   "codemirror_mode": {
    "name": "ipython",
    "version": 3
   },
   "file_extension": ".py",
   "mimetype": "text/x-python",
   "name": "python",
   "nbconvert_exporter": "python",
   "pygments_lexer": "ipython3",
   "version": "3.4.3"
  }
 },
 "nbformat": 4,
 "nbformat_minor": 0
}
