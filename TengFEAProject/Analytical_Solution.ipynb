{
 "cells": [
  {
   "cell_type": "code",
   "execution_count": 1,
   "metadata": {
    "collapsed": true
   },
   "outputs": [],
   "source": [
    "import numpy\n",
    "from sympy import *\n",
    "init_printing(use_unicode=True)\n",
    "import scipy.integrate\n",
    "from matplotlib import pyplot  \n",
    "%matplotlib inline"
   ]
  },
  {
   "cell_type": "markdown",
   "metadata": {},
   "source": [
    "\n",
    "\n",
    "\\begin{equation}\n",
    "x(t)=\\frac{F}{K} \\begin{pmatrix}  1- \\frac{e^{- \\varepsilon \\omega t}  cos(\\omega_{d}t-\\psi)}  {\\sqrt{1-\\varepsilon^2} \\qquad }   \\end{pmatrix}\n",
    "\\end{equation}"
   ]
  },
  {
   "cell_type": "code",
   "execution_count": 71,
   "metadata": {
    "collapsed": false
   },
   "outputs": [
    {
     "name": "stdout",
     "output_type": "stream",
     "text": [
      "5000.0\n",
      "75.002\n",
      "0.37500999999999995\n",
      "0.72\n"
     ]
    },
    {
     "data": {
      "image/png": "[encoded data removed]",
      "text/plain": [
       "<matplotlib.figure.Figure at 0x7f919f576748>"
      ]
     },
     "metadata": {},
     "output_type": "display_data"
    }
   ],
   "source": [
    "F=1\n",
    "possion=0.45\n",
    "young=10000\n",
    "K=(1/2)*young\n",
    "M=2\n",
    "C=0.015*K+0.001*M\n",
    "w=(K/M)**0.5\n",
    "eps=C/(2*M*w)\n",
    "#eps=0\n",
    "wd=w*(1-eps**2)**0.5\n",
    "print(K)\n",
    "print(C)\n",
    "print(eps)\n",
    "\n",
    "b=zeros(72)\n",
    "dt=0.00006;\n",
    "N=12000\n",
    "t=dt*N\n",
    "print(t)\n",
    "\n",
    "\n",
    "\n",
    "for i in range(0,72):\n",
    "    t=i\n",
    "    t=t/100 \n",
    "    x=(F/K)*(1-(2.7**(-eps*w*t))*cos(wd*t)/(1-eps**2)**0.5)\n",
    "    b[i]=x\n",
    "    \n",
    "pyplot.plot(b.transpose()); \n",
    "\n",
    "\n"
   ]
  },
  {
   "cell_type": "code",
   "execution_count": null,
   "metadata": {
    "collapsed": true
   },
   "outputs": [],
   "source": []
  },
  {
   "cell_type": "code",
   "execution_count": 72,
   "metadata": {
    "collapsed": false
   },
   "outputs": [
    {
     "name": "stdout",
     "output_type": "stream",
     "text": [
      "5000.0\n",
      "75.002\n",
      "0\n",
      "0.72\n"
     ]
    },
    {
     "data": {
      "image/png": "[encoded data removed]",
      "text/plain": [
       "<matplotlib.figure.Figure at 0x7f919da81f98>"
      ]
     },
     "metadata": {},
     "output_type": "display_data"
    }
   ],
   "source": [
    "F=1\n",
    "possion=0.45\n",
    "young=10000\n",
    "K=(1/2)*young\n",
    "M=2\n",
    "C=0.015*K+0.001*M\n",
    "w=(K/M)**0.5\n",
    "#eps=C/(2*M*w)\n",
    "eps=0\n",
    "wd=w*(1-eps**2)**0.5\n",
    "print(K)\n",
    "print(C)\n",
    "print(eps)\n",
    "\n",
    "b=zeros(72)\n",
    "dt=0.00006;\n",
    "N=12000\n",
    "t=dt*N\n",
    "print(t)\n",
    "\n",
    "\n",
    "\n",
    "for i in range(0,72):\n",
    "    t=i\n",
    "    t=t/100 \n",
    "    x=(F/K)*(1-(2.7**(-eps*w*t))*cos(wd*t)/(1-eps**2)**0.5)\n",
    "    b[i]=x\n",
    "    \n",
    "pyplot.plot(b.transpose()); \n",
    "\n",
    "\n"
   ]
  },
  {
   "cell_type": "code",
   "execution_count": null,
   "metadata": {
    "collapsed": true
   },
   "outputs": [],
   "source": []
  },
  {
   "cell_type": "code",
   "execution_count": null,
   "metadata": {
    "collapsed": true
   },
   "outputs": [],
   "source": []
  },
  {
   "cell_type": "code",
   "execution_count": null,
   "metadata": {
    "collapsed": true
   },
   "outputs": [],
   "source": []
  },
  {
   "cell_type": "code",
   "execution_count": null,
   "metadata": {
    "collapsed": true
   },
   "outputs": [],
   "source": []
  },
  {
   "cell_type": "code",
   "execution_count": null,
   "metadata": {
    "collapsed": true
   },
   "outputs": [],
   "source": []
  },
  {
   "cell_type": "code",
   "execution_count": 65,
   "metadata": {
    "collapsed": false
   },
   "outputs": [],
   "source": [
    "#x,t=symbols('x t')"
   ]
  },
  {
   "cell_type": "code",
   "execution_count": 66,
   "metadata": {
    "collapsed": false
   },
   "outputs": [],
   "source": [
    "\n",
    "%x=(F/K)*(1-(2.7**(-eps*w*t))*cos(wd*t)/(1-eps**2)**0.5)"
   ]
  },
  {
   "cell_type": "code",
   "execution_count": 67,
   "metadata": {
    "collapsed": false
   },
   "outputs": [
    {
     "name": "stdout",
     "output_type": "stream",
     "text": [
      "0.72\n"
     ]
    }
   ],
   "source": [
    "b=zeros(72)\n",
    "dt=0.00006;\n",
    "N=12000\n",
    "t=dt*N\n",
    "print(t)"
   ]
  },
  {
   "cell_type": "code",
   "execution_count": 68,
   "metadata": {
    "collapsed": false
   },
   "outputs": [
    {
     "data": {
      "image/png": "[encoded data removed]",
      "text/plain": [
       "<matplotlib.figure.Figure at 0x7f919da098d0>"
      ]
     },
     "metadata": {},
     "output_type": "display_data"
    }
   ],
   "source": [
    "for i in range(0,72):\n",
    "    t=i\n",
    "    t=t/100 \n",
    "    x=(F/K)*(1-(2.7**(-eps*w*t))*cos(wd*t)/(1-eps**2)**0.5)\n",
    "    b[i]=x\n",
    "    \n",
    "pyplot.plot(b.transpose()); "
   ]
  },
  {
   "cell_type": "code",
   "execution_count": null,
   "metadata": {
    "collapsed": true
   },
   "outputs": [],
   "source": []
  },
  {
   "cell_type": "code",
   "execution_count": null,
   "metadata": {
    "collapsed": true
   },
   "outputs": [],
   "source": []
  },
  {
   "cell_type": "code",
   "execution_count": null,
   "metadata": {
    "collapsed": true
   },
   "outputs": [],
   "source": []
  },
  {
   "cell_type": "code",
   "execution_count": null,
   "metadata": {
    "collapsed": true
   },
   "outputs": [],
   "source": []
  },
  {
   "cell_type": "code",
   "execution_count": null,
   "metadata": {
    "collapsed": true
   },
   "outputs": [],
   "source": []
  }
 ],
 "metadata": {
  "kernelspec": {
   "display_name": "Python 3",
   "language": "python",
   "name": "python3"
  },
  "language_info": {
   "codemirror_mode": {
    "name": "ipython",
    "version": 3
   },
   "file_extension": ".py",
   "mimetype": "text/x-python",
   "name": "python",
   "nbconvert_exporter": "python",
   "pygments_lexer": "ipython3",
   "version": "3.4.3"
  }
 },
 "nbformat": 4,
 "nbformat_minor": 0
}
